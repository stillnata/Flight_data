{
 "cells": [
  {
   "cell_type": "code",
   "execution_count": 185,
   "metadata": {
    "collapsed": false
   },
   "outputs": [],
   "source": [
    "import pandas as pd\n",
    "import numpy as np\n",
    "import seaborn as sns\n",
    "import glob\n",
    "import os\n",
    "import matplotlib.pyplot as plt\n",
    "%matplotlib inline"
   ]
  },
  {
   "cell_type": "code",
   "execution_count": 186,
   "metadata": {
    "collapsed": false
   },
   "outputs": [],
   "source": [
    "path = r'/Monthly Data'                     \n",
    "all_files = glob.glob(os.path.join(path,\"*.csv\"))     # advisable to use os.path.join as this makes concatenation OS independent\n",
    "\n",
    "df_from_each_file = (pd.read_csv(f, parse_dates=[\"FL_DATE\"]).rename(columns=str.lower) for f in all_files)\n",
    "concatenated_df   = pd.concat(df_from_each_file, ignore_index=True)"
   ]
  },
  {
   "cell_type": "code",
   "execution_count": 3,
   "metadata": {
    "collapsed": false
   },
   "outputs": [],
   "source": [
    "concatenated_df = concatenated_df.iloc[:, :-1]"
   ]
  },
  {
   "cell_type": "code",
   "execution_count": 4,
   "metadata": {
    "collapsed": false
   },
   "outputs": [
    {
     "data": {
      "text/html": [
       "<div>\n",
       "<table border=\"1\" class=\"dataframe\">\n",
       "  <thead>\n",
       "    <tr style=\"text-align: right;\">\n",
       "      <th></th>\n",
       "      <th>fl_date</th>\n",
       "      <th>unique_carrier</th>\n",
       "      <th>airline_id</th>\n",
       "      <th>carrier</th>\n",
       "      <th>tail_num</th>\n",
       "      <th>fl_num</th>\n",
       "      <th>origin_airport_id</th>\n",
       "      <th>origin_airport_seq_id</th>\n",
       "      <th>origin_city_market_id</th>\n",
       "      <th>origin</th>\n",
       "      <th>...</th>\n",
       "      <th>arr_delay_group</th>\n",
       "      <th>arr_time_blk</th>\n",
       "      <th>cancelled</th>\n",
       "      <th>diverted</th>\n",
       "      <th>crs_elapsed_time</th>\n",
       "      <th>actual_elapsed_time</th>\n",
       "      <th>air_time</th>\n",
       "      <th>flights</th>\n",
       "      <th>distance</th>\n",
       "      <th>distance_group</th>\n",
       "    </tr>\n",
       "  </thead>\n",
       "  <tbody>\n",
       "    <tr>\n",
       "      <th>0</th>\n",
       "      <td>2014-01-01</td>\n",
       "      <td>AA</td>\n",
       "      <td>19805</td>\n",
       "      <td>AA</td>\n",
       "      <td>N002AA</td>\n",
       "      <td>2377</td>\n",
       "      <td>12278</td>\n",
       "      <td>1227802</td>\n",
       "      <td>30928</td>\n",
       "      <td>ICT</td>\n",
       "      <td>...</td>\n",
       "      <td>0.0</td>\n",
       "      <td>1300-1359</td>\n",
       "      <td>0.0</td>\n",
       "      <td>0.0</td>\n",
       "      <td>85.0</td>\n",
       "      <td>78.0</td>\n",
       "      <td>57.0</td>\n",
       "      <td>1.0</td>\n",
       "      <td>328.0</td>\n",
       "      <td>2</td>\n",
       "    </tr>\n",
       "    <tr>\n",
       "      <th>1</th>\n",
       "      <td>2014-01-01</td>\n",
       "      <td>AA</td>\n",
       "      <td>19805</td>\n",
       "      <td>AA</td>\n",
       "      <td>N3FXAA</td>\n",
       "      <td>2378</td>\n",
       "      <td>13303</td>\n",
       "      <td>1330303</td>\n",
       "      <td>32467</td>\n",
       "      <td>MIA</td>\n",
       "      <td>...</td>\n",
       "      <td>-1.0</td>\n",
       "      <td>2300-2359</td>\n",
       "      <td>0.0</td>\n",
       "      <td>0.0</td>\n",
       "      <td>60.0</td>\n",
       "      <td>55.0</td>\n",
       "      <td>37.0</td>\n",
       "      <td>1.0</td>\n",
       "      <td>204.0</td>\n",
       "      <td>1</td>\n",
       "    </tr>\n",
       "    <tr>\n",
       "      <th>2</th>\n",
       "      <td>2014-01-01</td>\n",
       "      <td>EV</td>\n",
       "      <td>20366</td>\n",
       "      <td>EV</td>\n",
       "      <td>N906EV</td>\n",
       "      <td>2500</td>\n",
       "      <td>11298</td>\n",
       "      <td>1129803</td>\n",
       "      <td>30194</td>\n",
       "      <td>DFW</td>\n",
       "      <td>...</td>\n",
       "      <td>NaN</td>\n",
       "      <td>2200-2259</td>\n",
       "      <td>1.0</td>\n",
       "      <td>0.0</td>\n",
       "      <td>60.0</td>\n",
       "      <td>NaN</td>\n",
       "      <td>NaN</td>\n",
       "      <td>1.0</td>\n",
       "      <td>247.0</td>\n",
       "      <td>1</td>\n",
       "    </tr>\n",
       "    <tr>\n",
       "      <th>3</th>\n",
       "      <td>2014-01-01</td>\n",
       "      <td>EV</td>\n",
       "      <td>20366</td>\n",
       "      <td>EV</td>\n",
       "      <td>N903EV</td>\n",
       "      <td>2502</td>\n",
       "      <td>11146</td>\n",
       "      <td>1114603</td>\n",
       "      <td>31146</td>\n",
       "      <td>CRW</td>\n",
       "      <td>...</td>\n",
       "      <td>4.0</td>\n",
       "      <td>1900-1959</td>\n",
       "      <td>0.0</td>\n",
       "      <td>0.0</td>\n",
       "      <td>185.0</td>\n",
       "      <td>180.0</td>\n",
       "      <td>150.0</td>\n",
       "      <td>1.0</td>\n",
       "      <td>946.0</td>\n",
       "      <td>4</td>\n",
       "    </tr>\n",
       "    <tr>\n",
       "      <th>4</th>\n",
       "      <td>2014-01-01</td>\n",
       "      <td>EV</td>\n",
       "      <td>20366</td>\n",
       "      <td>EV</td>\n",
       "      <td>N903EV</td>\n",
       "      <td>2502</td>\n",
       "      <td>11298</td>\n",
       "      <td>1129803</td>\n",
       "      <td>30194</td>\n",
       "      <td>DFW</td>\n",
       "      <td>...</td>\n",
       "      <td>4.0</td>\n",
       "      <td>1600-1659</td>\n",
       "      <td>0.0</td>\n",
       "      <td>0.0</td>\n",
       "      <td>125.0</td>\n",
       "      <td>115.0</td>\n",
       "      <td>101.0</td>\n",
       "      <td>1.0</td>\n",
       "      <td>946.0</td>\n",
       "      <td>4</td>\n",
       "    </tr>\n",
       "  </tbody>\n",
       "</table>\n",
       "<p>5 rows × 50 columns</p>\n",
       "</div>"
      ],
      "text/plain": [
       "     fl_date unique_carrier  airline_id carrier tail_num  fl_num  \\\n",
       "0 2014-01-01             AA       19805      AA   N002AA    2377   \n",
       "1 2014-01-01             AA       19805      AA   N3FXAA    2378   \n",
       "2 2014-01-01             EV       20366      EV   N906EV    2500   \n",
       "3 2014-01-01             EV       20366      EV   N903EV    2502   \n",
       "4 2014-01-01             EV       20366      EV   N903EV    2502   \n",
       "\n",
       "   origin_airport_id  origin_airport_seq_id  origin_city_market_id origin  \\\n",
       "0              12278                1227802                  30928    ICT   \n",
       "1              13303                1330303                  32467    MIA   \n",
       "2              11298                1129803                  30194    DFW   \n",
       "3              11146                1114603                  31146    CRW   \n",
       "4              11298                1129803                  30194    DFW   \n",
       "\n",
       "       ...       arr_delay_group arr_time_blk  cancelled diverted  \\\n",
       "0      ...                   0.0    1300-1359        0.0      0.0   \n",
       "1      ...                  -1.0    2300-2359        0.0      0.0   \n",
       "2      ...                   NaN    2200-2259        1.0      0.0   \n",
       "3      ...                   4.0    1900-1959        0.0      0.0   \n",
       "4      ...                   4.0    1600-1659        0.0      0.0   \n",
       "\n",
       "   crs_elapsed_time  actual_elapsed_time  air_time  flights distance  \\\n",
       "0              85.0                 78.0      57.0      1.0    328.0   \n",
       "1              60.0                 55.0      37.0      1.0    204.0   \n",
       "2              60.0                  NaN       NaN      1.0    247.0   \n",
       "3             185.0                180.0     150.0      1.0    946.0   \n",
       "4             125.0                115.0     101.0      1.0    946.0   \n",
       "\n",
       "  distance_group  \n",
       "0              2  \n",
       "1              1  \n",
       "2              1  \n",
       "3              4  \n",
       "4              4  \n",
       "\n",
       "[5 rows x 50 columns]"
      ]
     },
     "execution_count": 4,
     "metadata": {},
     "output_type": "execute_result"
    }
   ],
   "source": [
    "concatenated_df.head()"
   ]
  },
  {
   "cell_type": "code",
   "execution_count": 5,
   "metadata": {
    "collapsed": false,
    "scrolled": true
   },
   "outputs": [
    {
     "name": "stdout",
     "output_type": "stream",
     "text": [
      "<class 'pandas.core.frame.DataFrame'>\n",
      "RangeIndex: 5819811 entries, 0 to 5819810\n",
      "Data columns (total 50 columns):\n",
      "fl_date                  datetime64[ns]\n",
      "unique_carrier           object\n",
      "airline_id               int64\n",
      "carrier                  object\n",
      "tail_num                 object\n",
      "fl_num                   int64\n",
      "origin_airport_id        int64\n",
      "origin_airport_seq_id    int64\n",
      "origin_city_market_id    int64\n",
      "origin                   object\n",
      "origin_city_name         object\n",
      "origin_state_abr         object\n",
      "origin_state_fips        int64\n",
      "origin_state_nm          object\n",
      "origin_wac               int64\n",
      "dest_airport_id          int64\n",
      "dest_airport_seq_id      int64\n",
      "dest_city_market_id      int64\n",
      "dest                     object\n",
      "dest_city_name           object\n",
      "dest_state_abr           object\n",
      "dest_state_fips          int64\n",
      "dest_state_nm            object\n",
      "dest_wac                 int64\n",
      "crs_dep_time             int64\n",
      "dep_time                 float64\n",
      "dep_delay                float64\n",
      "dep_delay_new            float64\n",
      "dep_del15                float64\n",
      "dep_delay_group          float64\n",
      "dep_time_blk             object\n",
      "taxi_out                 float64\n",
      "wheels_off               float64\n",
      "wheels_on                float64\n",
      "taxi_in                  float64\n",
      "crs_arr_time             int64\n",
      "arr_time                 float64\n",
      "arr_delay                float64\n",
      "arr_delay_new            float64\n",
      "arr_del15                float64\n",
      "arr_delay_group          float64\n",
      "arr_time_blk             object\n",
      "cancelled                float64\n",
      "diverted                 float64\n",
      "crs_elapsed_time         float64\n",
      "actual_elapsed_time      float64\n",
      "air_time                 float64\n",
      "flights                  float64\n",
      "distance                 float64\n",
      "distance_group           int64\n",
      "dtypes: datetime64[ns](1), float64(21), int64(15), object(13)\n",
      "memory usage: 2.2+ GB\n",
      "None\n"
     ]
    }
   ],
   "source": [
    "print(concatenated_df.info())"
   ]
  },
  {
   "cell_type": "code",
   "execution_count": 90,
   "metadata": {
    "collapsed": true
   },
   "outputs": [],
   "source": [
    "#dictionaries\n",
    "airport_id = pd.read_csv('/L_AIRPORT_ID.csv')\n",
    "carrier_his =pd.read_csv('/L_CARRIER_HISTORY.csv')"
   ]
  },
  {
   "cell_type": "code",
   "execution_count": 7,
   "metadata": {
    "collapsed": false
   },
   "outputs": [
    {
     "data": {
      "text/html": [
       "<div>\n",
       "<table border=\"1\" class=\"dataframe\">\n",
       "  <thead>\n",
       "    <tr style=\"text-align: right;\">\n",
       "      <th></th>\n",
       "      <th>Code</th>\n",
       "      <th>Description</th>\n",
       "    </tr>\n",
       "  </thead>\n",
       "  <tbody>\n",
       "    <tr>\n",
       "      <th>0</th>\n",
       "      <td>10001</td>\n",
       "      <td>Afognak Lake, AK: Afognak Lake Airport</td>\n",
       "    </tr>\n",
       "    <tr>\n",
       "      <th>1</th>\n",
       "      <td>10003</td>\n",
       "      <td>Granite Mountain, AK: Bear Creek Mining Strip</td>\n",
       "    </tr>\n",
       "    <tr>\n",
       "      <th>2</th>\n",
       "      <td>10004</td>\n",
       "      <td>Lik, AK: Lik Mining Camp</td>\n",
       "    </tr>\n",
       "    <tr>\n",
       "      <th>3</th>\n",
       "      <td>10005</td>\n",
       "      <td>Little Squaw, AK: Little Squaw Airport</td>\n",
       "    </tr>\n",
       "    <tr>\n",
       "      <th>4</th>\n",
       "      <td>10006</td>\n",
       "      <td>Kizhuyak, AK: Kizhuyak Bay</td>\n",
       "    </tr>\n",
       "  </tbody>\n",
       "</table>\n",
       "</div>"
      ],
      "text/plain": [
       "    Code                                    Description\n",
       "0  10001         Afognak Lake, AK: Afognak Lake Airport\n",
       "1  10003  Granite Mountain, AK: Bear Creek Mining Strip\n",
       "2  10004                       Lik, AK: Lik Mining Camp\n",
       "3  10005         Little Squaw, AK: Little Squaw Airport\n",
       "4  10006                     Kizhuyak, AK: Kizhuyak Bay"
      ]
     },
     "execution_count": 7,
     "metadata": {},
     "output_type": "execute_result"
    }
   ],
   "source": [
    "airport_id.head()"
   ]
  },
  {
   "cell_type": "code",
   "execution_count": 8,
   "metadata": {
    "collapsed": false
   },
   "outputs": [
    {
     "data": {
      "text/html": [
       "<div>\n",
       "<table border=\"1\" class=\"dataframe\">\n",
       "  <thead>\n",
       "    <tr style=\"text-align: right;\">\n",
       "      <th></th>\n",
       "      <th>Code</th>\n",
       "      <th>Description</th>\n",
       "    </tr>\n",
       "  </thead>\n",
       "  <tbody>\n",
       "    <tr>\n",
       "      <th>0</th>\n",
       "      <td>02Q</td>\n",
       "      <td>Titan Airways (2006 - )</td>\n",
       "    </tr>\n",
       "    <tr>\n",
       "      <th>1</th>\n",
       "      <td>04Q</td>\n",
       "      <td>Tradewind Aviation (2006 - )</td>\n",
       "    </tr>\n",
       "    <tr>\n",
       "      <th>2</th>\n",
       "      <td>05Q</td>\n",
       "      <td>Comlux Aviation, AG (2006 - 2012)</td>\n",
       "    </tr>\n",
       "    <tr>\n",
       "      <th>3</th>\n",
       "      <td>06Q</td>\n",
       "      <td>Master Top Linhas Aereas Ltd. (2007 - )</td>\n",
       "    </tr>\n",
       "    <tr>\n",
       "      <th>4</th>\n",
       "      <td>07Q</td>\n",
       "      <td>Flair Airlines Ltd. (2007 - )</td>\n",
       "    </tr>\n",
       "  </tbody>\n",
       "</table>\n",
       "</div>"
      ],
      "text/plain": [
       "  Code                              Description\n",
       "0  02Q                  Titan Airways (2006 - )\n",
       "1  04Q             Tradewind Aviation (2006 - )\n",
       "2  05Q        Comlux Aviation, AG (2006 - 2012)\n",
       "3  06Q  Master Top Linhas Aereas Ltd. (2007 - )\n",
       "4  07Q            Flair Airlines Ltd. (2007 - )"
      ]
     },
     "execution_count": 8,
     "metadata": {},
     "output_type": "execute_result"
    }
   ],
   "source": [
    "carrier_his.head()"
   ]
  },
  {
   "cell_type": "code",
   "execution_count": 9,
   "metadata": {
    "collapsed": false
   },
   "outputs": [],
   "source": [
    "df =concatenated_df[concatenated_df['cancelled']==0]"
   ]
  },
  {
   "cell_type": "code",
   "execution_count": 94,
   "metadata": {
    "collapsed": false
   },
   "outputs": [
    {
     "data": {
      "text/plain": [
       "array([19805, 20366, 20436, 20437, 19690, 20398, 19930, 20409, 19790,\n",
       "       20304, 19977, 20355, 21171, 19393])"
      ]
     },
     "execution_count": 94,
     "metadata": {},
     "output_type": "execute_result"
    }
   ],
   "source": [
    "concatenated_df.airline_id.unique()"
   ]
  },
  {
   "cell_type": "code",
   "execution_count": 10,
   "metadata": {
    "collapsed": false
   },
   "outputs": [],
   "source": [
    "# What is the 15th most flown route? \n",
    "flown_rotes = pd.DataFrame(df.groupby(['origin_city_name', 'dest_city_name'])['flights'].count().sort_values(ascending=False))\n",
    "\n"
   ]
  },
  {
   "cell_type": "code",
   "execution_count": 11,
   "metadata": {
    "collapsed": false
   },
   "outputs": [],
   "source": [
    "flown_rotes=flown_rotes.reset_index()"
   ]
  },
  {
   "cell_type": "code",
   "execution_count": 12,
   "metadata": {
    "collapsed": false,
    "scrolled": true
   },
   "outputs": [
    {
     "data": {
      "text/html": [
       "<div>\n",
       "<table border=\"1\" class=\"dataframe\">\n",
       "  <thead>\n",
       "    <tr style=\"text-align: right;\">\n",
       "      <th></th>\n",
       "      <th>origin_city_name</th>\n",
       "      <th>dest_city_name</th>\n",
       "      <th>flights</th>\n",
       "    </tr>\n",
       "  </thead>\n",
       "  <tbody>\n",
       "    <tr>\n",
       "      <th>0</th>\n",
       "      <td>San Francisco, CA</td>\n",
       "      <td>Los Angeles, CA</td>\n",
       "      <td>12977</td>\n",
       "    </tr>\n",
       "    <tr>\n",
       "      <th>1</th>\n",
       "      <td>Los Angeles, CA</td>\n",
       "      <td>San Francisco, CA</td>\n",
       "      <td>12963</td>\n",
       "    </tr>\n",
       "    <tr>\n",
       "      <th>2</th>\n",
       "      <td>New York, NY</td>\n",
       "      <td>Chicago, IL</td>\n",
       "      <td>12552</td>\n",
       "    </tr>\n",
       "    <tr>\n",
       "      <th>3</th>\n",
       "      <td>Chicago, IL</td>\n",
       "      <td>New York, NY</td>\n",
       "      <td>12534</td>\n",
       "    </tr>\n",
       "    <tr>\n",
       "      <th>4</th>\n",
       "      <td>New York, NY</td>\n",
       "      <td>Los Angeles, CA</td>\n",
       "      <td>12413</td>\n",
       "    </tr>\n",
       "    <tr>\n",
       "      <th>5</th>\n",
       "      <td>Los Angeles, CA</td>\n",
       "      <td>New York, NY</td>\n",
       "      <td>12405</td>\n",
       "    </tr>\n",
       "    <tr>\n",
       "      <th>6</th>\n",
       "      <td>Las Vegas, NV</td>\n",
       "      <td>Los Angeles, CA</td>\n",
       "      <td>11661</td>\n",
       "    </tr>\n",
       "    <tr>\n",
       "      <th>7</th>\n",
       "      <td>Los Angeles, CA</td>\n",
       "      <td>Las Vegas, NV</td>\n",
       "      <td>11358</td>\n",
       "    </tr>\n",
       "    <tr>\n",
       "      <th>8</th>\n",
       "      <td>Boston, MA</td>\n",
       "      <td>Washington, DC</td>\n",
       "      <td>10539</td>\n",
       "    </tr>\n",
       "    <tr>\n",
       "      <th>9</th>\n",
       "      <td>Washington, DC</td>\n",
       "      <td>Chicago, IL</td>\n",
       "      <td>10356</td>\n",
       "    </tr>\n",
       "    <tr>\n",
       "      <th>10</th>\n",
       "      <td>Atlanta, GA</td>\n",
       "      <td>New York, NY</td>\n",
       "      <td>10302</td>\n",
       "    </tr>\n",
       "    <tr>\n",
       "      <th>11</th>\n",
       "      <td>New York, NY</td>\n",
       "      <td>Atlanta, GA</td>\n",
       "      <td>10293</td>\n",
       "    </tr>\n",
       "    <tr>\n",
       "      <th>12</th>\n",
       "      <td>Chicago, IL</td>\n",
       "      <td>Washington, DC</td>\n",
       "      <td>10267</td>\n",
       "    </tr>\n",
       "    <tr>\n",
       "      <th>13</th>\n",
       "      <td>Washington, DC</td>\n",
       "      <td>Boston, MA</td>\n",
       "      <td>10236</td>\n",
       "    </tr>\n",
       "    <tr>\n",
       "      <th>14</th>\n",
       "      <td>Atlanta, GA</td>\n",
       "      <td>Washington, DC</td>\n",
       "      <td>10231</td>\n",
       "    </tr>\n",
       "    <tr>\n",
       "      <th>15</th>\n",
       "      <td>Los Angeles, CA</td>\n",
       "      <td>Chicago, IL</td>\n",
       "      <td>10101</td>\n",
       "    </tr>\n",
       "    <tr>\n",
       "      <th>16</th>\n",
       "      <td>Washington, DC</td>\n",
       "      <td>Atlanta, GA</td>\n",
       "      <td>10098</td>\n",
       "    </tr>\n",
       "    <tr>\n",
       "      <th>17</th>\n",
       "      <td>Chicago, IL</td>\n",
       "      <td>Atlanta, GA</td>\n",
       "      <td>9844</td>\n",
       "    </tr>\n",
       "    <tr>\n",
       "      <th>18</th>\n",
       "      <td>Atlanta, GA</td>\n",
       "      <td>Chicago, IL</td>\n",
       "      <td>9832</td>\n",
       "    </tr>\n",
       "    <tr>\n",
       "      <th>19</th>\n",
       "      <td>Chicago, IL</td>\n",
       "      <td>Los Angeles, CA</td>\n",
       "      <td>9805</td>\n",
       "    </tr>\n",
       "    <tr>\n",
       "      <th>20</th>\n",
       "      <td>Dallas, TX</td>\n",
       "      <td>Houston, TX</td>\n",
       "      <td>9707</td>\n",
       "    </tr>\n",
       "    <tr>\n",
       "      <th>21</th>\n",
       "      <td>Honolulu, HI</td>\n",
       "      <td>Kahului, HI</td>\n",
       "      <td>9702</td>\n",
       "    </tr>\n",
       "    <tr>\n",
       "      <th>22</th>\n",
       "      <td>Houston, TX</td>\n",
       "      <td>Dallas, TX</td>\n",
       "      <td>9669</td>\n",
       "    </tr>\n",
       "    <tr>\n",
       "      <th>23</th>\n",
       "      <td>Kahului, HI</td>\n",
       "      <td>Honolulu, HI</td>\n",
       "      <td>9635</td>\n",
       "    </tr>\n",
       "    <tr>\n",
       "      <th>24</th>\n",
       "      <td>New York, NY</td>\n",
       "      <td>Miami, FL</td>\n",
       "      <td>9581</td>\n",
       "    </tr>\n",
       "    <tr>\n",
       "      <th>25</th>\n",
       "      <td>Miami, FL</td>\n",
       "      <td>New York, NY</td>\n",
       "      <td>9570</td>\n",
       "    </tr>\n",
       "    <tr>\n",
       "      <th>26</th>\n",
       "      <td>Houston, TX</td>\n",
       "      <td>Atlanta, GA</td>\n",
       "      <td>9517</td>\n",
       "    </tr>\n",
       "    <tr>\n",
       "      <th>27</th>\n",
       "      <td>Atlanta, GA</td>\n",
       "      <td>Houston, TX</td>\n",
       "      <td>9421</td>\n",
       "    </tr>\n",
       "    <tr>\n",
       "      <th>28</th>\n",
       "      <td>Boston, MA</td>\n",
       "      <td>New York, NY</td>\n",
       "      <td>9415</td>\n",
       "    </tr>\n",
       "    <tr>\n",
       "      <th>29</th>\n",
       "      <td>New York, NY</td>\n",
       "      <td>Boston, MA</td>\n",
       "      <td>9405</td>\n",
       "    </tr>\n",
       "    <tr>\n",
       "      <th>...</th>\n",
       "      <td>...</td>\n",
       "      <td>...</td>\n",
       "      <td>...</td>\n",
       "    </tr>\n",
       "    <tr>\n",
       "      <th>4320</th>\n",
       "      <td>Philadelphia, PA</td>\n",
       "      <td>Cincinnati, OH</td>\n",
       "      <td>1</td>\n",
       "    </tr>\n",
       "    <tr>\n",
       "      <th>4321</th>\n",
       "      <td>Syracuse, NY</td>\n",
       "      <td>Raleigh/Durham, NC</td>\n",
       "      <td>1</td>\n",
       "    </tr>\n",
       "    <tr>\n",
       "      <th>4322</th>\n",
       "      <td>Cedar Rapids/Iowa City, IA</td>\n",
       "      <td>Lexington, KY</td>\n",
       "      <td>1</td>\n",
       "    </tr>\n",
       "    <tr>\n",
       "      <th>4323</th>\n",
       "      <td>Philadelphia, PA</td>\n",
       "      <td>Kansas City, MO</td>\n",
       "      <td>1</td>\n",
       "    </tr>\n",
       "    <tr>\n",
       "      <th>4324</th>\n",
       "      <td>Philadelphia, PA</td>\n",
       "      <td>Louisville, KY</td>\n",
       "      <td>1</td>\n",
       "    </tr>\n",
       "    <tr>\n",
       "      <th>4325</th>\n",
       "      <td>Lincoln, NE</td>\n",
       "      <td>Minneapolis, MN</td>\n",
       "      <td>1</td>\n",
       "    </tr>\n",
       "    <tr>\n",
       "      <th>4326</th>\n",
       "      <td>Charleston, SC</td>\n",
       "      <td>Norfolk, VA</td>\n",
       "      <td>1</td>\n",
       "    </tr>\n",
       "    <tr>\n",
       "      <th>4327</th>\n",
       "      <td>Kansas City, MO</td>\n",
       "      <td>Philadelphia, PA</td>\n",
       "      <td>1</td>\n",
       "    </tr>\n",
       "    <tr>\n",
       "      <th>4328</th>\n",
       "      <td>Syracuse, NY</td>\n",
       "      <td>Salt Lake City, UT</td>\n",
       "      <td>1</td>\n",
       "    </tr>\n",
       "    <tr>\n",
       "      <th>4329</th>\n",
       "      <td>Washington, DC</td>\n",
       "      <td>Baton Rouge, LA</td>\n",
       "      <td>1</td>\n",
       "    </tr>\n",
       "    <tr>\n",
       "      <th>4330</th>\n",
       "      <td>Syracuse, NY</td>\n",
       "      <td>Burlington, VT</td>\n",
       "      <td>1</td>\n",
       "    </tr>\n",
       "    <tr>\n",
       "      <th>4331</th>\n",
       "      <td>Savannah, GA</td>\n",
       "      <td>Milwaukee, WI</td>\n",
       "      <td>1</td>\n",
       "    </tr>\n",
       "    <tr>\n",
       "      <th>4332</th>\n",
       "      <td>Minneapolis, MN</td>\n",
       "      <td>Lincoln, NE</td>\n",
       "      <td>1</td>\n",
       "    </tr>\n",
       "    <tr>\n",
       "      <th>4333</th>\n",
       "      <td>Minneapolis, MN</td>\n",
       "      <td>Lexington, KY</td>\n",
       "      <td>1</td>\n",
       "    </tr>\n",
       "    <tr>\n",
       "      <th>4334</th>\n",
       "      <td>Salt Lake City, UT</td>\n",
       "      <td>Charleston, SC</td>\n",
       "      <td>1</td>\n",
       "    </tr>\n",
       "    <tr>\n",
       "      <th>4335</th>\n",
       "      <td>Hartford, CT</td>\n",
       "      <td>Salt Lake City, UT</td>\n",
       "      <td>1</td>\n",
       "    </tr>\n",
       "    <tr>\n",
       "      <th>4336</th>\n",
       "      <td>Newburgh/Poughkeepsie, NY</td>\n",
       "      <td>Atlanta, GA</td>\n",
       "      <td>1</td>\n",
       "    </tr>\n",
       "    <tr>\n",
       "      <th>4337</th>\n",
       "      <td>Norfolk, VA</td>\n",
       "      <td>Salt Lake City, UT</td>\n",
       "      <td>1</td>\n",
       "    </tr>\n",
       "    <tr>\n",
       "      <th>4338</th>\n",
       "      <td>Bozeman, MT</td>\n",
       "      <td>Billings, MT</td>\n",
       "      <td>1</td>\n",
       "    </tr>\n",
       "    <tr>\n",
       "      <th>4339</th>\n",
       "      <td>Washington, DC</td>\n",
       "      <td>Lexington, KY</td>\n",
       "      <td>1</td>\n",
       "    </tr>\n",
       "    <tr>\n",
       "      <th>4340</th>\n",
       "      <td>Salt Lake City, UT</td>\n",
       "      <td>Columbus, OH</td>\n",
       "      <td>1</td>\n",
       "    </tr>\n",
       "    <tr>\n",
       "      <th>4341</th>\n",
       "      <td>Nashville, TN</td>\n",
       "      <td>Birmingham, AL</td>\n",
       "      <td>1</td>\n",
       "    </tr>\n",
       "    <tr>\n",
       "      <th>4342</th>\n",
       "      <td>Washington, DC</td>\n",
       "      <td>Madison, WI</td>\n",
       "      <td>1</td>\n",
       "    </tr>\n",
       "    <tr>\n",
       "      <th>4343</th>\n",
       "      <td>Little Rock, AR</td>\n",
       "      <td>Peoria, IL</td>\n",
       "      <td>1</td>\n",
       "    </tr>\n",
       "    <tr>\n",
       "      <th>4344</th>\n",
       "      <td>Bristol/Johnson City/Kingsport, TN</td>\n",
       "      <td>Roanoke, VA</td>\n",
       "      <td>1</td>\n",
       "    </tr>\n",
       "    <tr>\n",
       "      <th>4345</th>\n",
       "      <td>Nashville, TN</td>\n",
       "      <td>Omaha, NE</td>\n",
       "      <td>1</td>\n",
       "    </tr>\n",
       "    <tr>\n",
       "      <th>4346</th>\n",
       "      <td>Omaha, NE</td>\n",
       "      <td>Charlotte, NC</td>\n",
       "      <td>1</td>\n",
       "    </tr>\n",
       "    <tr>\n",
       "      <th>4347</th>\n",
       "      <td>Buffalo, NY</td>\n",
       "      <td>Philadelphia, PA</td>\n",
       "      <td>1</td>\n",
       "    </tr>\n",
       "    <tr>\n",
       "      <th>4348</th>\n",
       "      <td>Omaha, NE</td>\n",
       "      <td>San Francisco, CA</td>\n",
       "      <td>1</td>\n",
       "    </tr>\n",
       "    <tr>\n",
       "      <th>4349</th>\n",
       "      <td>Fort Lauderdale, FL</td>\n",
       "      <td>Salt Lake City, UT</td>\n",
       "      <td>1</td>\n",
       "    </tr>\n",
       "  </tbody>\n",
       "</table>\n",
       "<p>4350 rows × 3 columns</p>\n",
       "</div>"
      ],
      "text/plain": [
       "                        origin_city_name      dest_city_name  flights\n",
       "0                      San Francisco, CA     Los Angeles, CA    12977\n",
       "1                        Los Angeles, CA   San Francisco, CA    12963\n",
       "2                           New York, NY         Chicago, IL    12552\n",
       "3                            Chicago, IL        New York, NY    12534\n",
       "4                           New York, NY     Los Angeles, CA    12413\n",
       "5                        Los Angeles, CA        New York, NY    12405\n",
       "6                          Las Vegas, NV     Los Angeles, CA    11661\n",
       "7                        Los Angeles, CA       Las Vegas, NV    11358\n",
       "8                             Boston, MA      Washington, DC    10539\n",
       "9                         Washington, DC         Chicago, IL    10356\n",
       "10                           Atlanta, GA        New York, NY    10302\n",
       "11                          New York, NY         Atlanta, GA    10293\n",
       "12                           Chicago, IL      Washington, DC    10267\n",
       "13                        Washington, DC          Boston, MA    10236\n",
       "14                           Atlanta, GA      Washington, DC    10231\n",
       "15                       Los Angeles, CA         Chicago, IL    10101\n",
       "16                        Washington, DC         Atlanta, GA    10098\n",
       "17                           Chicago, IL         Atlanta, GA     9844\n",
       "18                           Atlanta, GA         Chicago, IL     9832\n",
       "19                           Chicago, IL     Los Angeles, CA     9805\n",
       "20                            Dallas, TX         Houston, TX     9707\n",
       "21                          Honolulu, HI         Kahului, HI     9702\n",
       "22                           Houston, TX          Dallas, TX     9669\n",
       "23                           Kahului, HI        Honolulu, HI     9635\n",
       "24                          New York, NY           Miami, FL     9581\n",
       "25                             Miami, FL        New York, NY     9570\n",
       "26                           Houston, TX         Atlanta, GA     9517\n",
       "27                           Atlanta, GA         Houston, TX     9421\n",
       "28                            Boston, MA        New York, NY     9415\n",
       "29                          New York, NY          Boston, MA     9405\n",
       "...                                  ...                 ...      ...\n",
       "4320                    Philadelphia, PA      Cincinnati, OH        1\n",
       "4321                        Syracuse, NY  Raleigh/Durham, NC        1\n",
       "4322          Cedar Rapids/Iowa City, IA       Lexington, KY        1\n",
       "4323                    Philadelphia, PA     Kansas City, MO        1\n",
       "4324                    Philadelphia, PA      Louisville, KY        1\n",
       "4325                         Lincoln, NE     Minneapolis, MN        1\n",
       "4326                      Charleston, SC         Norfolk, VA        1\n",
       "4327                     Kansas City, MO    Philadelphia, PA        1\n",
       "4328                        Syracuse, NY  Salt Lake City, UT        1\n",
       "4329                      Washington, DC     Baton Rouge, LA        1\n",
       "4330                        Syracuse, NY      Burlington, VT        1\n",
       "4331                        Savannah, GA       Milwaukee, WI        1\n",
       "4332                     Minneapolis, MN         Lincoln, NE        1\n",
       "4333                     Minneapolis, MN       Lexington, KY        1\n",
       "4334                  Salt Lake City, UT      Charleston, SC        1\n",
       "4335                        Hartford, CT  Salt Lake City, UT        1\n",
       "4336           Newburgh/Poughkeepsie, NY         Atlanta, GA        1\n",
       "4337                         Norfolk, VA  Salt Lake City, UT        1\n",
       "4338                         Bozeman, MT        Billings, MT        1\n",
       "4339                      Washington, DC       Lexington, KY        1\n",
       "4340                  Salt Lake City, UT        Columbus, OH        1\n",
       "4341                       Nashville, TN      Birmingham, AL        1\n",
       "4342                      Washington, DC         Madison, WI        1\n",
       "4343                     Little Rock, AR          Peoria, IL        1\n",
       "4344  Bristol/Johnson City/Kingsport, TN         Roanoke, VA        1\n",
       "4345                       Nashville, TN           Omaha, NE        1\n",
       "4346                           Omaha, NE       Charlotte, NC        1\n",
       "4347                         Buffalo, NY    Philadelphia, PA        1\n",
       "4348                           Omaha, NE   San Francisco, CA        1\n",
       "4349                 Fort Lauderdale, FL  Salt Lake City, UT        1\n",
       "\n",
       "[4350 rows x 3 columns]"
      ]
     },
     "execution_count": 12,
     "metadata": {},
     "output_type": "execute_result"
    }
   ],
   "source": [
    "flown_rotes"
   ]
  },
  {
   "cell_type": "code",
   "execution_count": 101,
   "metadata": {
    "collapsed": false,
    "scrolled": true
   },
   "outputs": [
    {
     "data": {
      "text/html": [
       "<div>\n",
       "<table border=\"1\" class=\"dataframe\">\n",
       "  <thead>\n",
       "    <tr style=\"text-align: right;\">\n",
       "      <th></th>\n",
       "      <th>flights</th>\n",
       "    </tr>\n",
       "    <tr>\n",
       "      <th>line</th>\n",
       "      <th></th>\n",
       "    </tr>\n",
       "  </thead>\n",
       "  <tbody>\n",
       "    <tr>\n",
       "      <th>(Los Angeles, CA, San Francisco, CA)</th>\n",
       "      <td>25940</td>\n",
       "    </tr>\n",
       "    <tr>\n",
       "      <th>(Chicago, IL, New York, NY)</th>\n",
       "      <td>25086</td>\n",
       "    </tr>\n",
       "    <tr>\n",
       "      <th>(Los Angeles, CA, New York, NY)</th>\n",
       "      <td>24818</td>\n",
       "    </tr>\n",
       "    <tr>\n",
       "      <th>(Las Vegas, NV, Los Angeles, CA)</th>\n",
       "      <td>23019</td>\n",
       "    </tr>\n",
       "    <tr>\n",
       "      <th>(Boston, MA, Washington, DC)</th>\n",
       "      <td>20775</td>\n",
       "    </tr>\n",
       "    <tr>\n",
       "      <th>(Chicago, IL, Washington, DC)</th>\n",
       "      <td>20623</td>\n",
       "    </tr>\n",
       "    <tr>\n",
       "      <th>(Atlanta, GA, New York, NY)</th>\n",
       "      <td>20595</td>\n",
       "    </tr>\n",
       "    <tr>\n",
       "      <th>(Atlanta, GA, Washington, DC)</th>\n",
       "      <td>20329</td>\n",
       "    </tr>\n",
       "    <tr>\n",
       "      <th>(Chicago, IL, Los Angeles, CA)</th>\n",
       "      <td>19906</td>\n",
       "    </tr>\n",
       "    <tr>\n",
       "      <th>(Atlanta, GA, Chicago, IL)</th>\n",
       "      <td>19676</td>\n",
       "    </tr>\n",
       "    <tr>\n",
       "      <th>(Dallas, TX, Houston, TX)</th>\n",
       "      <td>19376</td>\n",
       "    </tr>\n",
       "    <tr>\n",
       "      <th>(Honolulu, HI, Kahului, HI)</th>\n",
       "      <td>19337</td>\n",
       "    </tr>\n",
       "    <tr>\n",
       "      <th>(Miami, FL, New York, NY)</th>\n",
       "      <td>19151</td>\n",
       "    </tr>\n",
       "    <tr>\n",
       "      <th>(Atlanta, GA, Houston, TX)</th>\n",
       "      <td>18938</td>\n",
       "    </tr>\n",
       "    <tr>\n",
       "      <th>(Boston, MA, New York, NY)</th>\n",
       "      <td>18820</td>\n",
       "    </tr>\n",
       "    <tr>\n",
       "      <th>(New York, NY, Washington, DC)</th>\n",
       "      <td>18770</td>\n",
       "    </tr>\n",
       "    <tr>\n",
       "      <th>(New York, NY, Orlando, FL)</th>\n",
       "      <td>18445</td>\n",
       "    </tr>\n",
       "    <tr>\n",
       "      <th>(New York, NY, San Francisco, CA)</th>\n",
       "      <td>17653</td>\n",
       "    </tr>\n",
       "    <tr>\n",
       "      <th>(Los Angeles, CA, Phoenix, AZ)</th>\n",
       "      <td>17462</td>\n",
       "    </tr>\n",
       "    <tr>\n",
       "      <th>(Chicago, IL, San Francisco, CA)</th>\n",
       "      <td>17378</td>\n",
       "    </tr>\n",
       "    <tr>\n",
       "      <th>(Boston, MA, Chicago, IL)</th>\n",
       "      <td>16766</td>\n",
       "    </tr>\n",
       "    <tr>\n",
       "      <th>(Atlanta, GA, Orlando, FL)</th>\n",
       "      <td>16691</td>\n",
       "    </tr>\n",
       "    <tr>\n",
       "      <th>(Los Angeles, CA, San Diego, CA)</th>\n",
       "      <td>16480</td>\n",
       "    </tr>\n",
       "    <tr>\n",
       "      <th>(Fort Lauderdale, FL, New York, NY)</th>\n",
       "      <td>16190</td>\n",
       "    </tr>\n",
       "    <tr>\n",
       "      <th>(Los Angeles, CA, San Jose, CA)</th>\n",
       "      <td>16081</td>\n",
       "    </tr>\n",
       "    <tr>\n",
       "      <th>(Chicago, IL, Denver, CO)</th>\n",
       "      <td>15961</td>\n",
       "    </tr>\n",
       "    <tr>\n",
       "      <th>(Las Vegas, NV, San Francisco, CA)</th>\n",
       "      <td>15870</td>\n",
       "    </tr>\n",
       "    <tr>\n",
       "      <th>(Denver, CO, Phoenix, AZ)</th>\n",
       "      <td>15843</td>\n",
       "    </tr>\n",
       "    <tr>\n",
       "      <th>(Dallas/Fort Worth, TX, Los Angeles, CA)</th>\n",
       "      <td>15510</td>\n",
       "    </tr>\n",
       "    <tr>\n",
       "      <th>(Dallas/Fort Worth, TX, Houston, TX)</th>\n",
       "      <td>15308</td>\n",
       "    </tr>\n",
       "    <tr>\n",
       "      <th>...</th>\n",
       "      <td>...</td>\n",
       "    </tr>\n",
       "    <tr>\n",
       "      <th>(Cleveland, OH, Portland, ME)</th>\n",
       "      <td>1</td>\n",
       "    </tr>\n",
       "    <tr>\n",
       "      <th>(Cleveland, OH, Erie, PA)</th>\n",
       "      <td>1</td>\n",
       "    </tr>\n",
       "    <tr>\n",
       "      <th>(Atlanta, GA, Macon, GA)</th>\n",
       "      <td>1</td>\n",
       "    </tr>\n",
       "    <tr>\n",
       "      <th>(Oklahoma City, OK, Tulsa, OK)</th>\n",
       "      <td>1</td>\n",
       "    </tr>\n",
       "    <tr>\n",
       "      <th>(Houston, TX, Santa Fe, NM)</th>\n",
       "      <td>1</td>\n",
       "    </tr>\n",
       "    <tr>\n",
       "      <th>(Nashville, TN, Omaha, NE)</th>\n",
       "      <td>1</td>\n",
       "    </tr>\n",
       "    <tr>\n",
       "      <th>(Nashville, TN, Oklahoma City, OK)</th>\n",
       "      <td>1</td>\n",
       "    </tr>\n",
       "    <tr>\n",
       "      <th>(Aspen, CO, Grand Junction, CO)</th>\n",
       "      <td>1</td>\n",
       "    </tr>\n",
       "    <tr>\n",
       "      <th>(Bangor, ME, Charlotte, NC)</th>\n",
       "      <td>1</td>\n",
       "    </tr>\n",
       "    <tr>\n",
       "      <th>(Cedar Rapids/Iowa City, IA, Lexington, KY)</th>\n",
       "      <td>1</td>\n",
       "    </tr>\n",
       "    <tr>\n",
       "      <th>(Charleston, SC, Norfolk, VA)</th>\n",
       "      <td>1</td>\n",
       "    </tr>\n",
       "    <tr>\n",
       "      <th>(Charleston, SC, Wilmington, NC)</th>\n",
       "      <td>1</td>\n",
       "    </tr>\n",
       "    <tr>\n",
       "      <th>(Milwaukee, WI, Philadelphia, PA)</th>\n",
       "      <td>1</td>\n",
       "    </tr>\n",
       "    <tr>\n",
       "      <th>(Milwaukee, WI, Savannah, GA)</th>\n",
       "      <td>1</td>\n",
       "    </tr>\n",
       "    <tr>\n",
       "      <th>(Knoxville, TN, Lansing, MI)</th>\n",
       "      <td>1</td>\n",
       "    </tr>\n",
       "    <tr>\n",
       "      <th>(Minneapolis, MN, Moline, IL)</th>\n",
       "      <td>1</td>\n",
       "    </tr>\n",
       "    <tr>\n",
       "      <th>(Charlotte, NC, Milwaukee, WI)</th>\n",
       "      <td>1</td>\n",
       "    </tr>\n",
       "    <tr>\n",
       "      <th>(Kansas City, MO, Rapid City, SD)</th>\n",
       "      <td>1</td>\n",
       "    </tr>\n",
       "    <tr>\n",
       "      <th>(Baltimore, MD, Cincinnati, OH)</th>\n",
       "      <td>1</td>\n",
       "    </tr>\n",
       "    <tr>\n",
       "      <th>(Charlottesville, VA, Philadelphia, PA)</th>\n",
       "      <td>1</td>\n",
       "    </tr>\n",
       "    <tr>\n",
       "      <th>(El Paso, TX, Hobbs, NM)</th>\n",
       "      <td>1</td>\n",
       "    </tr>\n",
       "    <tr>\n",
       "      <th>(Jamestown, ND, Minot, ND)</th>\n",
       "      <td>1</td>\n",
       "    </tr>\n",
       "    <tr>\n",
       "      <th>(Evansville, IN, Indianapolis, IN)</th>\n",
       "      <td>1</td>\n",
       "    </tr>\n",
       "    <tr>\n",
       "      <th>(Fayetteville, AR, Tulsa, OK)</th>\n",
       "      <td>1</td>\n",
       "    </tr>\n",
       "    <tr>\n",
       "      <th>(Arcata/Eureka, CA, Medford, OR)</th>\n",
       "      <td>1</td>\n",
       "    </tr>\n",
       "    <tr>\n",
       "      <th>(Asheville, NC, Greer, SC)</th>\n",
       "      <td>1</td>\n",
       "    </tr>\n",
       "    <tr>\n",
       "      <th>(Indianapolis, IN, Raleigh/Durham, NC)</th>\n",
       "      <td>1</td>\n",
       "    </tr>\n",
       "    <tr>\n",
       "      <th>(Indianapolis, IN, Memphis, TN)</th>\n",
       "      <td>1</td>\n",
       "    </tr>\n",
       "    <tr>\n",
       "      <th>(Fort Lauderdale, FL, Mobile, AL)</th>\n",
       "      <td>1</td>\n",
       "    </tr>\n",
       "    <tr>\n",
       "      <th>(Fargo, ND, Newark, NJ)</th>\n",
       "      <td>1</td>\n",
       "    </tr>\n",
       "  </tbody>\n",
       "</table>\n",
       "<p>2213 rows × 1 columns</p>\n",
       "</div>"
      ],
      "text/plain": [
       "                                             flights\n",
       "line                                                \n",
       "(Los Angeles, CA, San Francisco, CA)           25940\n",
       "(Chicago, IL, New York, NY)                    25086\n",
       "(Los Angeles, CA, New York, NY)                24818\n",
       "(Las Vegas, NV, Los Angeles, CA)               23019\n",
       "(Boston, MA, Washington, DC)                   20775\n",
       "(Chicago, IL, Washington, DC)                  20623\n",
       "(Atlanta, GA, New York, NY)                    20595\n",
       "(Atlanta, GA, Washington, DC)                  20329\n",
       "(Chicago, IL, Los Angeles, CA)                 19906\n",
       "(Atlanta, GA, Chicago, IL)                     19676\n",
       "(Dallas, TX, Houston, TX)                      19376\n",
       "(Honolulu, HI, Kahului, HI)                    19337\n",
       "(Miami, FL, New York, NY)                      19151\n",
       "(Atlanta, GA, Houston, TX)                     18938\n",
       "(Boston, MA, New York, NY)                     18820\n",
       "(New York, NY, Washington, DC)                 18770\n",
       "(New York, NY, Orlando, FL)                    18445\n",
       "(New York, NY, San Francisco, CA)              17653\n",
       "(Los Angeles, CA, Phoenix, AZ)                 17462\n",
       "(Chicago, IL, San Francisco, CA)               17378\n",
       "(Boston, MA, Chicago, IL)                      16766\n",
       "(Atlanta, GA, Orlando, FL)                     16691\n",
       "(Los Angeles, CA, San Diego, CA)               16480\n",
       "(Fort Lauderdale, FL, New York, NY)            16190\n",
       "(Los Angeles, CA, San Jose, CA)                16081\n",
       "(Chicago, IL, Denver, CO)                      15961\n",
       "(Las Vegas, NV, San Francisco, CA)             15870\n",
       "(Denver, CO, Phoenix, AZ)                      15843\n",
       "(Dallas/Fort Worth, TX, Los Angeles, CA)       15510\n",
       "(Dallas/Fort Worth, TX, Houston, TX)           15308\n",
       "...                                              ...\n",
       "(Cleveland, OH, Portland, ME)                      1\n",
       "(Cleveland, OH, Erie, PA)                          1\n",
       "(Atlanta, GA, Macon, GA)                           1\n",
       "(Oklahoma City, OK, Tulsa, OK)                     1\n",
       "(Houston, TX, Santa Fe, NM)                        1\n",
       "(Nashville, TN, Omaha, NE)                         1\n",
       "(Nashville, TN, Oklahoma City, OK)                 1\n",
       "(Aspen, CO, Grand Junction, CO)                    1\n",
       "(Bangor, ME, Charlotte, NC)                        1\n",
       "(Cedar Rapids/Iowa City, IA, Lexington, KY)        1\n",
       "(Charleston, SC, Norfolk, VA)                      1\n",
       "(Charleston, SC, Wilmington, NC)                   1\n",
       "(Milwaukee, WI, Philadelphia, PA)                  1\n",
       "(Milwaukee, WI, Savannah, GA)                      1\n",
       "(Knoxville, TN, Lansing, MI)                       1\n",
       "(Minneapolis, MN, Moline, IL)                      1\n",
       "(Charlotte, NC, Milwaukee, WI)                     1\n",
       "(Kansas City, MO, Rapid City, SD)                  1\n",
       "(Baltimore, MD, Cincinnati, OH)                    1\n",
       "(Charlottesville, VA, Philadelphia, PA)            1\n",
       "(El Paso, TX, Hobbs, NM)                           1\n",
       "(Jamestown, ND, Minot, ND)                         1\n",
       "(Evansville, IN, Indianapolis, IN)                 1\n",
       "(Fayetteville, AR, Tulsa, OK)                      1\n",
       "(Arcata/Eureka, CA, Medford, OR)                   1\n",
       "(Asheville, NC, Greer, SC)                         1\n",
       "(Indianapolis, IN, Raleigh/Durham, NC)             1\n",
       "(Indianapolis, IN, Memphis, TN)                    1\n",
       "(Fort Lauderdale, FL, Mobile, AL)                  1\n",
       "(Fargo, ND, Newark, NJ)                            1\n",
       "\n",
       "[2213 rows x 1 columns]"
      ]
     },
     "execution_count": 101,
     "metadata": {},
     "output_type": "execute_result"
    }
   ],
   "source": [
    "\n",
    "flown_rotes['line'] = flown_rotes.apply(lambda r: tuple(sorted([r['origin_city_name'], r['dest_city_name']])), axis=1)\n",
    "\n",
    "pd.DataFrame (flown_rotes.groupby('line')['flights'].sum().sort_values(ascending=False))\n",
    "\n",
    "#Boston, MA, New York, NY)  18820"
   ]
  },
  {
   "cell_type": "code",
   "execution_count": 105,
   "metadata": {
    "collapsed": false
   },
   "outputs": [
    {
     "data": {
      "text/html": [
       "<div>\n",
       "<table border=\"1\" class=\"dataframe\">\n",
       "  <thead>\n",
       "    <tr style=\"text-align: right;\">\n",
       "      <th></th>\n",
       "      <th>flights</th>\n",
       "    </tr>\n",
       "    <tr>\n",
       "      <th>carrier</th>\n",
       "      <th></th>\n",
       "    </tr>\n",
       "  </thead>\n",
       "  <tbody>\n",
       "    <tr>\n",
       "      <th>WN</th>\n",
       "      <td>1159468</td>\n",
       "    </tr>\n",
       "    <tr>\n",
       "      <th>DL</th>\n",
       "      <td>793873</td>\n",
       "    </tr>\n",
       "    <tr>\n",
       "      <th>EV</th>\n",
       "      <td>651893</td>\n",
       "    </tr>\n",
       "    <tr>\n",
       "      <th>OO</th>\n",
       "      <td>594722</td>\n",
       "    </tr>\n",
       "    <tr>\n",
       "      <th>AA</th>\n",
       "      <td>529240</td>\n",
       "    </tr>\n",
       "    <tr>\n",
       "      <th>UA</th>\n",
       "      <td>486198</td>\n",
       "    </tr>\n",
       "    <tr>\n",
       "      <th>US</th>\n",
       "      <td>407928</td>\n",
       "    </tr>\n",
       "    <tr>\n",
       "      <th>MQ</th>\n",
       "      <td>371545</td>\n",
       "    </tr>\n",
       "    <tr>\n",
       "      <th>B6</th>\n",
       "      <td>243617</td>\n",
       "    </tr>\n",
       "    <tr>\n",
       "      <th>AS</th>\n",
       "      <td>159498</td>\n",
       "    </tr>\n",
       "    <tr>\n",
       "      <th>F9</th>\n",
       "      <td>85117</td>\n",
       "    </tr>\n",
       "    <tr>\n",
       "      <th>FL</th>\n",
       "      <td>77979</td>\n",
       "    </tr>\n",
       "    <tr>\n",
       "      <th>HA</th>\n",
       "      <td>74574</td>\n",
       "    </tr>\n",
       "    <tr>\n",
       "      <th>VX</th>\n",
       "      <td>57175</td>\n",
       "    </tr>\n",
       "  </tbody>\n",
       "</table>\n",
       "</div>"
      ],
      "text/plain": [
       "         flights\n",
       "carrier         \n",
       "WN       1159468\n",
       "DL        793873\n",
       "EV        651893\n",
       "OO        594722\n",
       "AA        529240\n",
       "UA        486198\n",
       "US        407928\n",
       "MQ        371545\n",
       "B6        243617\n",
       "AS        159498\n",
       "F9         85117\n",
       "FL         77979\n",
       "HA         74574\n",
       "VX         57175"
      ]
     },
     "execution_count": 105,
     "metadata": {},
     "output_type": "execute_result"
    }
   ],
   "source": [
    "carrier = pd.DataFrame(df.groupby(['carrier'])['flights'].count().sort_values(ascending=False))\n",
    "carrier"
   ]
  },
  {
   "cell_type": "code",
   "execution_count": 117,
   "metadata": {
    "collapsed": false
   },
   "outputs": [],
   "source": [
    "\n",
    "import plotly.plotly as py\n",
    "import plotly.graph_objs as go\n",
    "import plotly \n",
    "plotly.tools.set_credentials_file(username='natalia_k', api_key='###')"
   ]
  },
  {
   "cell_type": "code",
   "execution_count": 118,
   "metadata": {
    "collapsed": false
   },
   "outputs": [
    {
     "data": {
      "text/html": [
       "<iframe id=\"igraph\" scrolling=\"no\" style=\"border:none;\" seamless=\"seamless\" src=\"https://plot.ly/~natalia_k/8.embed\" height=\"525px\" width=\"100%\"></iframe>"
      ],
      "text/plain": [
       "<plotly.tools.PlotlyDisplay object>"
      ]
     },
     "execution_count": 118,
     "metadata": {},
     "output_type": "execute_result"
    }
   ],
   "source": [
    "trace = go.Pie(labels=carrier.index, values=carrier.flights)\n",
    "\n",
    "py.iplot([trace], filename='carrier_pie_chart')"
   ]
  },
  {
   "cell_type": "code",
   "execution_count": 122,
   "metadata": {
    "collapsed": false,
    "scrolled": true
   },
   "outputs": [
    {
     "data": {
      "text/html": [
       "<div>\n",
       "<table border=\"1\" class=\"dataframe\">\n",
       "  <thead>\n",
       "    <tr style=\"text-align: right;\">\n",
       "      <th></th>\n",
       "      <th>Code</th>\n",
       "      <th>Description</th>\n",
       "    </tr>\n",
       "  </thead>\n",
       "  <tbody>\n",
       "    <tr>\n",
       "      <th>1183</th>\n",
       "      <td>OO</td>\n",
       "      <td>SkyWest Airlines Inc. (2003 - )</td>\n",
       "    </tr>\n",
       "  </tbody>\n",
       "</table>\n",
       "</div>"
      ],
      "text/plain": [
       "     Code                      Description\n",
       "1183   OO  SkyWest Airlines Inc. (2003 - )"
      ]
     },
     "execution_count": 122,
     "metadata": {},
     "output_type": "execute_result"
    }
   ],
   "source": [
    "#What carrier has flown the 3rd most number of flights? How many? \n",
    "#57\tEV\tExpressJet Airlines Inc. (2012 - )  651893\n",
    "carrier_his[carrier_his['Code']=='OO']"
   ]
  },
  {
   "cell_type": "code",
   "execution_count": 16,
   "metadata": {
    "collapsed": false
   },
   "outputs": [
    {
     "name": "stderr",
     "output_type": "stream",
     "text": [
      "//anaconda/lib/python3.5/site-packages/ipykernel/__main__.py:1: SettingWithCopyWarning: \n",
      "A value is trying to be set on a copy of a slice from a DataFrame.\n",
      "Try using .loc[row_indexer,col_indexer] = value instead\n",
      "\n",
      "See the caveats in the documentation: http://pandas.pydata.org/pandas-docs/stable/indexing.html#indexing-view-versus-copy\n",
      "  if __name__ == '__main__':\n",
      "//anaconda/lib/python3.5/site-packages/ipykernel/__main__.py:2: SettingWithCopyWarning: \n",
      "A value is trying to be set on a copy of a slice from a DataFrame.\n",
      "Try using .loc[row_indexer,col_indexer] = value instead\n",
      "\n",
      "See the caveats in the documentation: http://pandas.pydata.org/pandas-docs/stable/indexing.html#indexing-view-versus-copy\n",
      "  from ipykernel import kernelapp as app\n"
     ]
    }
   ],
   "source": [
    "df['dep_delay_ind'] = np.where(df['dep_delay_new']>0, 'Delay', 'In_time')\n",
    "df['arr_delay_ind'] = np.where(df['arr_delay_new']>0, 'Delay', 'In_time')"
   ]
  },
  {
   "cell_type": "code",
   "execution_count": 17,
   "metadata": {
    "collapsed": false
   },
   "outputs": [
    {
     "data": {
      "text/html": [
       "<div>\n",
       "<table border=\"1\" class=\"dataframe\">\n",
       "  <thead>\n",
       "    <tr style=\"text-align: right;\">\n",
       "      <th></th>\n",
       "      <th>fl_date</th>\n",
       "      <th>unique_carrier</th>\n",
       "      <th>airline_id</th>\n",
       "      <th>carrier</th>\n",
       "      <th>tail_num</th>\n",
       "      <th>fl_num</th>\n",
       "      <th>origin_airport_id</th>\n",
       "      <th>origin_airport_seq_id</th>\n",
       "      <th>origin_city_market_id</th>\n",
       "      <th>origin</th>\n",
       "      <th>...</th>\n",
       "      <th>cancelled</th>\n",
       "      <th>diverted</th>\n",
       "      <th>crs_elapsed_time</th>\n",
       "      <th>actual_elapsed_time</th>\n",
       "      <th>air_time</th>\n",
       "      <th>flights</th>\n",
       "      <th>distance</th>\n",
       "      <th>distance_group</th>\n",
       "      <th>dep_delay_ind</th>\n",
       "      <th>arr_delay_ind</th>\n",
       "    </tr>\n",
       "  </thead>\n",
       "  <tbody>\n",
       "    <tr>\n",
       "      <th>0</th>\n",
       "      <td>2014-01-01</td>\n",
       "      <td>AA</td>\n",
       "      <td>19805</td>\n",
       "      <td>AA</td>\n",
       "      <td>N002AA</td>\n",
       "      <td>2377</td>\n",
       "      <td>12278</td>\n",
       "      <td>1227802</td>\n",
       "      <td>30928</td>\n",
       "      <td>ICT</td>\n",
       "      <td>...</td>\n",
       "      <td>0.0</td>\n",
       "      <td>0.0</td>\n",
       "      <td>85.0</td>\n",
       "      <td>78.0</td>\n",
       "      <td>57.0</td>\n",
       "      <td>1.0</td>\n",
       "      <td>328.0</td>\n",
       "      <td>2</td>\n",
       "      <td>Delay</td>\n",
       "      <td>Delay</td>\n",
       "    </tr>\n",
       "    <tr>\n",
       "      <th>1</th>\n",
       "      <td>2014-01-01</td>\n",
       "      <td>AA</td>\n",
       "      <td>19805</td>\n",
       "      <td>AA</td>\n",
       "      <td>N3FXAA</td>\n",
       "      <td>2378</td>\n",
       "      <td>13303</td>\n",
       "      <td>1330303</td>\n",
       "      <td>32467</td>\n",
       "      <td>MIA</td>\n",
       "      <td>...</td>\n",
       "      <td>0.0</td>\n",
       "      <td>0.0</td>\n",
       "      <td>60.0</td>\n",
       "      <td>55.0</td>\n",
       "      <td>37.0</td>\n",
       "      <td>1.0</td>\n",
       "      <td>204.0</td>\n",
       "      <td>1</td>\n",
       "      <td>In_time</td>\n",
       "      <td>In_time</td>\n",
       "    </tr>\n",
       "    <tr>\n",
       "      <th>3</th>\n",
       "      <td>2014-01-01</td>\n",
       "      <td>EV</td>\n",
       "      <td>20366</td>\n",
       "      <td>EV</td>\n",
       "      <td>N903EV</td>\n",
       "      <td>2502</td>\n",
       "      <td>11146</td>\n",
       "      <td>1114603</td>\n",
       "      <td>31146</td>\n",
       "      <td>CRW</td>\n",
       "      <td>...</td>\n",
       "      <td>0.0</td>\n",
       "      <td>0.0</td>\n",
       "      <td>185.0</td>\n",
       "      <td>180.0</td>\n",
       "      <td>150.0</td>\n",
       "      <td>1.0</td>\n",
       "      <td>946.0</td>\n",
       "      <td>4</td>\n",
       "      <td>Delay</td>\n",
       "      <td>Delay</td>\n",
       "    </tr>\n",
       "    <tr>\n",
       "      <th>4</th>\n",
       "      <td>2014-01-01</td>\n",
       "      <td>EV</td>\n",
       "      <td>20366</td>\n",
       "      <td>EV</td>\n",
       "      <td>N903EV</td>\n",
       "      <td>2502</td>\n",
       "      <td>11298</td>\n",
       "      <td>1129803</td>\n",
       "      <td>30194</td>\n",
       "      <td>DFW</td>\n",
       "      <td>...</td>\n",
       "      <td>0.0</td>\n",
       "      <td>0.0</td>\n",
       "      <td>125.0</td>\n",
       "      <td>115.0</td>\n",
       "      <td>101.0</td>\n",
       "      <td>1.0</td>\n",
       "      <td>946.0</td>\n",
       "      <td>4</td>\n",
       "      <td>Delay</td>\n",
       "      <td>Delay</td>\n",
       "    </tr>\n",
       "    <tr>\n",
       "      <th>5</th>\n",
       "      <td>2014-01-01</td>\n",
       "      <td>EV</td>\n",
       "      <td>20366</td>\n",
       "      <td>EV</td>\n",
       "      <td>N876AS</td>\n",
       "      <td>2503</td>\n",
       "      <td>10279</td>\n",
       "      <td>1027903</td>\n",
       "      <td>30279</td>\n",
       "      <td>AMA</td>\n",
       "      <td>...</td>\n",
       "      <td>0.0</td>\n",
       "      <td>0.0</td>\n",
       "      <td>65.0</td>\n",
       "      <td>104.0</td>\n",
       "      <td>43.0</td>\n",
       "      <td>1.0</td>\n",
       "      <td>312.0</td>\n",
       "      <td>2</td>\n",
       "      <td>In_time</td>\n",
       "      <td>Delay</td>\n",
       "    </tr>\n",
       "  </tbody>\n",
       "</table>\n",
       "<p>5 rows × 52 columns</p>\n",
       "</div>"
      ],
      "text/plain": [
       "     fl_date unique_carrier  airline_id carrier tail_num  fl_num  \\\n",
       "0 2014-01-01             AA       19805      AA   N002AA    2377   \n",
       "1 2014-01-01             AA       19805      AA   N3FXAA    2378   \n",
       "3 2014-01-01             EV       20366      EV   N903EV    2502   \n",
       "4 2014-01-01             EV       20366      EV   N903EV    2502   \n",
       "5 2014-01-01             EV       20366      EV   N876AS    2503   \n",
       "\n",
       "   origin_airport_id  origin_airport_seq_id  origin_city_market_id origin  \\\n",
       "0              12278                1227802                  30928    ICT   \n",
       "1              13303                1330303                  32467    MIA   \n",
       "3              11146                1114603                  31146    CRW   \n",
       "4              11298                1129803                  30194    DFW   \n",
       "5              10279                1027903                  30279    AMA   \n",
       "\n",
       "       ...      cancelled diverted  crs_elapsed_time actual_elapsed_time  \\\n",
       "0      ...            0.0      0.0              85.0                78.0   \n",
       "1      ...            0.0      0.0              60.0                55.0   \n",
       "3      ...            0.0      0.0             185.0               180.0   \n",
       "4      ...            0.0      0.0             125.0               115.0   \n",
       "5      ...            0.0      0.0              65.0               104.0   \n",
       "\n",
       "   air_time  flights  distance  distance_group dep_delay_ind arr_delay_ind  \n",
       "0      57.0      1.0     328.0               2         Delay         Delay  \n",
       "1      37.0      1.0     204.0               1       In_time       In_time  \n",
       "3     150.0      1.0     946.0               4         Delay         Delay  \n",
       "4     101.0      1.0     946.0               4         Delay         Delay  \n",
       "5      43.0      1.0     312.0               2       In_time         Delay  \n",
       "\n",
       "[5 rows x 52 columns]"
      ]
     },
     "execution_count": 17,
     "metadata": {},
     "output_type": "execute_result"
    }
   ],
   "source": [
    "df.head()"
   ]
  },
  {
   "cell_type": "code",
   "execution_count": 58,
   "metadata": {
    "collapsed": false,
    "scrolled": true
   },
   "outputs": [
    {
     "data": {
      "text/html": [
       "<div>\n",
       "<table border=\"1\" class=\"dataframe\">\n",
       "  <thead>\n",
       "    <tr style=\"text-align: right;\">\n",
       "      <th>origin_airport_id</th>\n",
       "      <th>10135</th>\n",
       "      <th>10136</th>\n",
       "      <th>10140</th>\n",
       "      <th>10141</th>\n",
       "      <th>10146</th>\n",
       "      <th>10154</th>\n",
       "      <th>10155</th>\n",
       "      <th>10157</th>\n",
       "      <th>10158</th>\n",
       "      <th>10165</th>\n",
       "      <th>...</th>\n",
       "      <th>15497</th>\n",
       "      <th>15582</th>\n",
       "      <th>15607</th>\n",
       "      <th>15624</th>\n",
       "      <th>15841</th>\n",
       "      <th>15897</th>\n",
       "      <th>15919</th>\n",
       "      <th>15991</th>\n",
       "      <th>16218</th>\n",
       "      <th>All</th>\n",
       "    </tr>\n",
       "    <tr>\n",
       "      <th>dep_delay_ind</th>\n",
       "      <th></th>\n",
       "      <th></th>\n",
       "      <th></th>\n",
       "      <th></th>\n",
       "      <th></th>\n",
       "      <th></th>\n",
       "      <th></th>\n",
       "      <th></th>\n",
       "      <th></th>\n",
       "      <th></th>\n",
       "      <th></th>\n",
       "      <th></th>\n",
       "      <th></th>\n",
       "      <th></th>\n",
       "      <th></th>\n",
       "      <th></th>\n",
       "      <th></th>\n",
       "      <th></th>\n",
       "      <th></th>\n",
       "      <th></th>\n",
       "      <th></th>\n",
       "    </tr>\n",
       "  </thead>\n",
       "  <tbody>\n",
       "    <tr>\n",
       "      <th>Delay</th>\n",
       "      <td>386</td>\n",
       "      <td>886</td>\n",
       "      <td>10920</td>\n",
       "      <td>126</td>\n",
       "      <td>229</td>\n",
       "      <td>115</td>\n",
       "      <td>535</td>\n",
       "      <td>949</td>\n",
       "      <td>105</td>\n",
       "      <td>44</td>\n",
       "      <td>...</td>\n",
       "      <td>104</td>\n",
       "      <td>47</td>\n",
       "      <td>228</td>\n",
       "      <td>1388</td>\n",
       "      <td>173</td>\n",
       "      <td>37</td>\n",
       "      <td>3655</td>\n",
       "      <td>173</td>\n",
       "      <td>646</td>\n",
       "      <td>2319283</td>\n",
       "    </tr>\n",
       "    <tr>\n",
       "      <th>In_time</th>\n",
       "      <td>1187</td>\n",
       "      <td>1821</td>\n",
       "      <td>13400</td>\n",
       "      <td>608</td>\n",
       "      <td>753</td>\n",
       "      <td>278</td>\n",
       "      <td>1148</td>\n",
       "      <td>1838</td>\n",
       "      <td>373</td>\n",
       "      <td>54</td>\n",
       "      <td>...</td>\n",
       "      <td>68</td>\n",
       "      <td>461</td>\n",
       "      <td>765</td>\n",
       "      <td>3486</td>\n",
       "      <td>539</td>\n",
       "      <td>229</td>\n",
       "      <td>6384</td>\n",
       "      <td>545</td>\n",
       "      <td>2242</td>\n",
       "      <td>3373544</td>\n",
       "    </tr>\n",
       "    <tr>\n",
       "      <th>All</th>\n",
       "      <td>1573</td>\n",
       "      <td>2707</td>\n",
       "      <td>24320</td>\n",
       "      <td>734</td>\n",
       "      <td>982</td>\n",
       "      <td>393</td>\n",
       "      <td>1683</td>\n",
       "      <td>2787</td>\n",
       "      <td>478</td>\n",
       "      <td>98</td>\n",
       "      <td>...</td>\n",
       "      <td>172</td>\n",
       "      <td>508</td>\n",
       "      <td>993</td>\n",
       "      <td>4874</td>\n",
       "      <td>712</td>\n",
       "      <td>266</td>\n",
       "      <td>10039</td>\n",
       "      <td>718</td>\n",
       "      <td>2888</td>\n",
       "      <td>5692827</td>\n",
       "    </tr>\n",
       "  </tbody>\n",
       "</table>\n",
       "<p>3 rows × 326 columns</p>\n",
       "</div>"
      ],
      "text/plain": [
       "origin_airport_id  10135  10136  10140  10141  10146  10154  10155  10157  \\\n",
       "dep_delay_ind                                                               \n",
       "Delay                386    886  10920    126    229    115    535    949   \n",
       "In_time             1187   1821  13400    608    753    278   1148   1838   \n",
       "All                 1573   2707  24320    734    982    393   1683   2787   \n",
       "\n",
       "origin_airport_id  10158  10165   ...     15497  15582  15607  15624  15841  \\\n",
       "dep_delay_ind                     ...                                         \n",
       "Delay                105     44   ...       104     47    228   1388    173   \n",
       "In_time              373     54   ...        68    461    765   3486    539   \n",
       "All                  478     98   ...       172    508    993   4874    712   \n",
       "\n",
       "origin_airport_id  15897  15919  15991  16218      All  \n",
       "dep_delay_ind                                           \n",
       "Delay                 37   3655    173    646  2319283  \n",
       "In_time              229   6384    545   2242  3373544  \n",
       "All                  266  10039    718   2888  5692827  \n",
       "\n",
       "[3 rows x 326 columns]"
      ]
     },
     "execution_count": 58,
     "metadata": {},
     "output_type": "execute_result"
    }
   ],
   "source": [
    "airport_delays = pd.crosstab(  df.dep_delay_ind,df.origin_airport_id,margins=True)\n",
    "airport_delays"
   ]
  },
  {
   "cell_type": "code",
   "execution_count": 19,
   "metadata": {
    "collapsed": false
   },
   "outputs": [],
   "source": [
    "airport_delays_perc = (airport_delays/airport_delays.ix[\"All\"]).T"
   ]
  },
  {
   "cell_type": "code",
   "execution_count": 20,
   "metadata": {
    "collapsed": false,
    "scrolled": true
   },
   "outputs": [],
   "source": [
    "top_delay_airports = airport_delays_perc.sort_values(by=['Delay'], ascending =False).reset_index()"
   ]
  },
  {
   "cell_type": "code",
   "execution_count": 21,
   "metadata": {
    "collapsed": false
   },
   "outputs": [],
   "source": [
    "less_flown_airpors = airport_delays.T.sort_values(by=['All']).reset_index()"
   ]
  },
  {
   "cell_type": "code",
   "execution_count": 138,
   "metadata": {
    "collapsed": false,
    "scrolled": true
   },
   "outputs": [],
   "source": [
    "delay_airp= pd.merge(top_delay_airports, less_flown_airpors, how='left', on=['origin_airport_id', 'origin_airport_id']).reset_index()\n",
    "\n",
    "\n"
   ]
  },
  {
   "cell_type": "code",
   "execution_count": 145,
   "metadata": {
    "collapsed": false
   },
   "outputs": [
    {
     "data": {
      "text/html": [
       "<div>\n",
       "<table border=\"1\" class=\"dataframe\">\n",
       "  <thead>\n",
       "    <tr style=\"text-align: right;\">\n",
       "      <th>dep_delay_ind</th>\n",
       "      <th>origin_airport_id</th>\n",
       "      <th>Delay_x</th>\n",
       "    </tr>\n",
       "  </thead>\n",
       "  <tbody>\n",
       "    <tr>\n",
       "      <th>1</th>\n",
       "      <td>12016</td>\n",
       "      <td>0.657382</td>\n",
       "    </tr>\n",
       "    <tr>\n",
       "      <th>2</th>\n",
       "      <td>13232</td>\n",
       "      <td>0.625680</td>\n",
       "    </tr>\n",
       "    <tr>\n",
       "      <th>3</th>\n",
       "      <td>11259</td>\n",
       "      <td>0.616779</td>\n",
       "    </tr>\n",
       "    <tr>\n",
       "      <th>4</th>\n",
       "      <td>15497</td>\n",
       "      <td>0.604651</td>\n",
       "    </tr>\n",
       "    <tr>\n",
       "      <th>5</th>\n",
       "      <td>11997</td>\n",
       "      <td>0.588235</td>\n",
       "    </tr>\n",
       "    <tr>\n",
       "      <th>6</th>\n",
       "      <td>12191</td>\n",
       "      <td>0.574576</td>\n",
       "    </tr>\n",
       "    <tr>\n",
       "      <th>7</th>\n",
       "      <td>13796</td>\n",
       "      <td>0.540439</td>\n",
       "    </tr>\n",
       "    <tr>\n",
       "      <th>8</th>\n",
       "      <td>10821</td>\n",
       "      <td>0.539204</td>\n",
       "    </tr>\n",
       "    <tr>\n",
       "      <th>9</th>\n",
       "      <td>14222</td>\n",
       "      <td>0.526786</td>\n",
       "    </tr>\n",
       "    <tr>\n",
       "      <th>10</th>\n",
       "      <td>11292</td>\n",
       "      <td>0.515011</td>\n",
       "    </tr>\n",
       "  </tbody>\n",
       "</table>\n",
       "</div>"
      ],
      "text/plain": [
       "dep_delay_ind origin_airport_id   Delay_x\n",
       "1                         12016  0.657382\n",
       "2                         13232  0.625680\n",
       "3                         11259  0.616779\n",
       "4                         15497  0.604651\n",
       "5                         11997  0.588235\n",
       "6                         12191  0.574576\n",
       "7                         13796  0.540439\n",
       "8                         10821  0.539204\n",
       "9                         14222  0.526786\n",
       "10                        11292  0.515011"
      ]
     },
     "execution_count": 145,
     "metadata": {},
     "output_type": "execute_result"
    }
   ],
   "source": [
    "\n",
    "delay_airp[['origin_airport_id', 'Delay_x']][1:11]"
   ]
  },
  {
   "cell_type": "code",
   "execution_count": 148,
   "metadata": {
    "collapsed": false
   },
   "outputs": [
    {
     "data": {
      "text/plain": [
       "29.466197844653642"
      ]
     },
     "execution_count": 148,
     "metadata": {},
     "output_type": "execute_result"
    }
   ],
   "source": [
    "df[(df.dep_delay_ind=='Delay') & (df.origin_airport_id.isin(airports)) ].dep_delay_new.mean()"
   ]
  },
  {
   "cell_type": "code",
   "execution_count": 153,
   "metadata": {
    "collapsed": false
   },
   "outputs": [
    {
     "data": {
      "text/plain": [
       "473821     St. Augustine, FL\n",
       "473922     St. Augustine, FL\n",
       "503565     St. Augustine, FL\n",
       "507012     St. Augustine, FL\n",
       "533052     St. Augustine, FL\n",
       "565177     St. Augustine, FL\n",
       "565406     St. Augustine, FL\n",
       "569227     St. Augustine, FL\n",
       "594390     St. Augustine, FL\n",
       "594571     St. Augustine, FL\n",
       "601128     St. Augustine, FL\n",
       "631433     St. Augustine, FL\n",
       "633951     St. Augustine, FL\n",
       "663586     St. Augustine, FL\n",
       "663806     St. Augustine, FL\n",
       "692663     St. Augustine, FL\n",
       "696033     St. Augustine, FL\n",
       "696204     St. Augustine, FL\n",
       "721384     St. Augustine, FL\n",
       "729395     St. Augustine, FL\n",
       "755584     St. Augustine, FL\n",
       "788091     St. Augustine, FL\n",
       "788135     St. Augustine, FL\n",
       "792983     St. Augustine, FL\n",
       "820615     St. Augustine, FL\n",
       "820774     St. Augustine, FL\n",
       "826288     St. Augustine, FL\n",
       "849478     St. Augustine, FL\n",
       "858554     St. Augustine, FL\n",
       "888177     St. Augustine, FL\n",
       "                 ...        \n",
       "5324162    St. Augustine, FL\n",
       "5352164    St. Augustine, FL\n",
       "5384383    St. Augustine, FL\n",
       "5415463    St. Augustine, FL\n",
       "5468553    St. Augustine, FL\n",
       "5468637    St. Augustine, FL\n",
       "5475643    St. Augustine, FL\n",
       "5504433    St. Augustine, FL\n",
       "5504592    St. Augustine, FL\n",
       "5513658    St. Augustine, FL\n",
       "5528213    St. Augustine, FL\n",
       "5544664    St. Augustine, FL\n",
       "5569041    St. Augustine, FL\n",
       "5569143    St. Augustine, FL\n",
       "5594632    St. Augustine, FL\n",
       "5601677    St. Augustine, FL\n",
       "5601683    St. Augustine, FL\n",
       "5631048    St. Augustine, FL\n",
       "5635067    St. Augustine, FL\n",
       "5692588    St. Augustine, FL\n",
       "5692788    St. Augustine, FL\n",
       "5698109    St. Augustine, FL\n",
       "5720032    St. Augustine, FL\n",
       "5720208    St. Augustine, FL\n",
       "5730325    St. Augustine, FL\n",
       "5757856    St. Augustine, FL\n",
       "5762078    St. Augustine, FL\n",
       "5791689    St. Augustine, FL\n",
       "5791930    St. Augustine, FL\n",
       "5813846    St. Augustine, FL\n",
       "Name: origin_city_name, dtype: object"
      ]
     },
     "execution_count": 153,
     "metadata": {},
     "output_type": "execute_result"
    }
   ],
   "source": [
    "df.origin_city_name[df.origin_airport_id==15497]"
   ]
  },
  {
   "cell_type": "code",
   "execution_count": 86,
   "metadata": {
    "collapsed": false
   },
   "outputs": [
    {
     "data": {
      "text/plain": [
       "[12016, 13232, 11259, 15497, 11997, 12191, 13796, 10821, 14222, 11292]"
      ]
     },
     "execution_count": 86,
     "metadata": {},
     "output_type": "execute_result"
    }
   ],
   "source": [
    "airports = list (delay_airp.origin_airport_id[1:11] )\n",
    "airports"
   ]
  },
  {
   "cell_type": "code",
   "execution_count": 93,
   "metadata": {
    "collapsed": false
   },
   "outputs": [
    {
     "data": {
      "text/html": [
       "<div>\n",
       "<table border=\"1\" class=\"dataframe\">\n",
       "  <thead>\n",
       "    <tr style=\"text-align: right;\">\n",
       "      <th></th>\n",
       "      <th>Code</th>\n",
       "      <th>Description</th>\n",
       "    </tr>\n",
       "  </thead>\n",
       "  <tbody>\n",
       "    <tr>\n",
       "      <th>792</th>\n",
       "      <td>10821</td>\n",
       "      <td>Baltimore, MD: Baltimore/Washington Internatio...</td>\n",
       "    </tr>\n",
       "    <tr>\n",
       "      <th>1214</th>\n",
       "      <td>11259</td>\n",
       "      <td>Dallas, TX: Dallas Love Field</td>\n",
       "    </tr>\n",
       "    <tr>\n",
       "      <th>1245</th>\n",
       "      <td>11292</td>\n",
       "      <td>Denver, CO: Denver International</td>\n",
       "    </tr>\n",
       "    <tr>\n",
       "      <th>1920</th>\n",
       "      <td>11997</td>\n",
       "      <td>Gustavus, AK: Gustavus Airport</td>\n",
       "    </tr>\n",
       "    <tr>\n",
       "      <th>1938</th>\n",
       "      <td>12016</td>\n",
       "      <td>Guam, TT: Guam International</td>\n",
       "    </tr>\n",
       "    <tr>\n",
       "      <th>2106</th>\n",
       "      <td>12191</td>\n",
       "      <td>Houston, TX: William P Hobby</td>\n",
       "    </tr>\n",
       "    <tr>\n",
       "      <th>3098</th>\n",
       "      <td>13232</td>\n",
       "      <td>Chicago, IL: Chicago Midway International</td>\n",
       "    </tr>\n",
       "    <tr>\n",
       "      <th>3644</th>\n",
       "      <td>13796</td>\n",
       "      <td>Oakland, CA: Metropolitan Oakland International</td>\n",
       "    </tr>\n",
       "    <tr>\n",
       "      <th>4054</th>\n",
       "      <td>14222</td>\n",
       "      <td>Pago Pago, TT: Pago Pago International</td>\n",
       "    </tr>\n",
       "    <tr>\n",
       "      <th>5254</th>\n",
       "      <td>15497</td>\n",
       "      <td>St. Augustine, FL: Northeast Florida Regional</td>\n",
       "    </tr>\n",
       "  </tbody>\n",
       "</table>\n",
       "</div>"
      ],
      "text/plain": [
       "       Code                                        Description\n",
       "792   10821  Baltimore, MD: Baltimore/Washington Internatio...\n",
       "1214  11259                      Dallas, TX: Dallas Love Field\n",
       "1245  11292                   Denver, CO: Denver International\n",
       "1920  11997                     Gustavus, AK: Gustavus Airport\n",
       "1938  12016                       Guam, TT: Guam International\n",
       "2106  12191                       Houston, TX: William P Hobby\n",
       "3098  13232          Chicago, IL: Chicago Midway International\n",
       "3644  13796    Oakland, CA: Metropolitan Oakland International\n",
       "4054  14222             Pago Pago, TT: Pago Pago International\n",
       "5254  15497      St. Augustine, FL: Northeast Florida Regional"
      ]
     },
     "execution_count": 93,
     "metadata": {},
     "output_type": "execute_result"
    }
   ],
   "source": [
    "#airpors with most delays\n",
    "airport_id[airport_id['Code'].isin(airports)]\n",
    "#airport_id.Code.astype('int64')"
   ]
  },
  {
   "cell_type": "code",
   "execution_count": 154,
   "metadata": {
    "collapsed": false
   },
   "outputs": [
    {
     "data": {
      "text/html": [
       "<div>\n",
       "<table border=\"1\" class=\"dataframe\">\n",
       "  <thead>\n",
       "    <tr style=\"text-align: right;\">\n",
       "      <th></th>\n",
       "      <th>Code</th>\n",
       "      <th>Description</th>\n",
       "    </tr>\n",
       "  </thead>\n",
       "  <tbody>\n",
       "    <tr>\n",
       "      <th>792</th>\n",
       "      <td>10821</td>\n",
       "      <td>Baltimore, MD: Baltimore/Washington Internatio...</td>\n",
       "    </tr>\n",
       "  </tbody>\n",
       "</table>\n",
       "</div>"
      ],
      "text/plain": [
       "      Code                                        Description\n",
       "792  10821  Baltimore, MD: Baltimore/Washington Internatio..."
      ]
     },
     "execution_count": 154,
     "metadata": {},
     "output_type": "execute_result"
    }
   ],
   "source": [
    "airport_id[airport_id['Code']==10821]"
   ]
  },
  {
   "cell_type": "code",
   "execution_count": 97,
   "metadata": {
    "collapsed": false
   },
   "outputs": [],
   "source": [
    "concatenated_df['week'] = concatenated_df['fl_date'].dt.weekday"
   ]
  },
  {
   "cell_type": "code",
   "execution_count": null,
   "metadata": {
    "collapsed": false,
    "scrolled": true
   },
   "outputs": [],
   "source": [
    "concatenated_df.groupby(['week'])['flights'].count().sort_values(ascending=False)"
   ]
  },
  {
   "cell_type": "code",
   "execution_count": null,
   "metadata": {
    "collapsed": false,
    "scrolled": true
   },
   "outputs": [],
   "source": [
    "concatenated_df[concatenated_df['week']==2].groupby(['fl_date'])['flights'].count().sort_values(ascending=False)"
   ]
  },
  {
   "cell_type": "code",
   "execution_count": null,
   "metadata": {
    "collapsed": false
   },
   "outputs": [],
   "source": [
    "fig, ax = plt.subplots(figsize=(15, 5))\n",
    "\n",
    "sns.bplot(x='week', y='flights', data=concatenated_df, ax=ax)\n",
    "sns.despine()"
   ]
  },
  {
   "cell_type": "code",
   "execution_count": 124,
   "metadata": {
    "collapsed": false
   },
   "outputs": [
    {
     "name": "stderr",
     "output_type": "stream",
     "text": [
      "//anaconda/lib/python3.5/site-packages/ipykernel/__main__.py:1: SettingWithCopyWarning:\n",
      "\n",
      "\n",
      "A value is trying to be set on a copy of a slice from a DataFrame.\n",
      "Try using .loc[row_indexer,col_indexer] = value instead\n",
      "\n",
      "See the caveats in the documentation: http://pandas.pydata.org/pandas-docs/stable/indexing.html#indexing-view-versus-copy\n",
      "\n"
     ]
    }
   ],
   "source": [
    "df['month'] = concatenated_df['fl_date'].dt.month\n",
    "carrier = pd.DataFrame(df.groupby(['month'])['flights'].count())"
   ]
  },
  {
   "cell_type": "code",
   "execution_count": 125,
   "metadata": {
    "collapsed": false
   },
   "outputs": [
    {
     "data": {
      "text/html": [
       "<div>\n",
       "<table border=\"1\" class=\"dataframe\">\n",
       "  <thead>\n",
       "    <tr style=\"text-align: right;\">\n",
       "      <th></th>\n",
       "      <th>flights</th>\n",
       "    </tr>\n",
       "    <tr>\n",
       "      <th>month</th>\n",
       "      <th></th>\n",
       "    </tr>\n",
       "  </thead>\n",
       "  <tbody>\n",
       "    <tr>\n",
       "      <th>1</th>\n",
       "      <td>441097</td>\n",
       "    </tr>\n",
       "    <tr>\n",
       "      <th>2</th>\n",
       "      <td>406883</td>\n",
       "    </tr>\n",
       "    <tr>\n",
       "      <th>3</th>\n",
       "      <td>493910</td>\n",
       "    </tr>\n",
       "    <tr>\n",
       "      <th>4</th>\n",
       "      <td>477937</td>\n",
       "    </tr>\n",
       "    <tr>\n",
       "      <th>5</th>\n",
       "      <td>489765</td>\n",
       "    </tr>\n",
       "    <tr>\n",
       "      <th>6</th>\n",
       "      <td>492484</td>\n",
       "    </tr>\n",
       "    <tr>\n",
       "      <th>7</th>\n",
       "      <td>512490</td>\n",
       "    </tr>\n",
       "    <tr>\n",
       "      <th>8</th>\n",
       "      <td>501542</td>\n",
       "    </tr>\n",
       "    <tr>\n",
       "      <th>9</th>\n",
       "      <td>462713</td>\n",
       "    </tr>\n",
       "    <tr>\n",
       "      <th>10</th>\n",
       "      <td>485805</td>\n",
       "    </tr>\n",
       "    <tr>\n",
       "      <th>11</th>\n",
       "      <td>457753</td>\n",
       "    </tr>\n",
       "    <tr>\n",
       "      <th>12</th>\n",
       "      <td>470448</td>\n",
       "    </tr>\n",
       "  </tbody>\n",
       "</table>\n",
       "</div>"
      ],
      "text/plain": [
       "       flights\n",
       "month         \n",
       "1       441097\n",
       "2       406883\n",
       "3       493910\n",
       "4       477937\n",
       "5       489765\n",
       "6       492484\n",
       "7       512490\n",
       "8       501542\n",
       "9       462713\n",
       "10      485805\n",
       "11      457753\n",
       "12      470448"
      ]
     },
     "execution_count": 125,
     "metadata": {},
     "output_type": "execute_result"
    }
   ],
   "source": [
    "carrier"
   ]
  },
  {
   "cell_type": "code",
   "execution_count": 136,
   "metadata": {
    "collapsed": false,
    "scrolled": true
   },
   "outputs": [
    {
     "data": {
      "text/html": [
       "<iframe id=\"igraph\" scrolling=\"no\" style=\"border:none;\" seamless=\"seamless\" src=\"https://plot.ly/~natalia_k/10.embed\" height=\"525px\" width=\"100%\"></iframe>"
      ],
      "text/plain": [
       "<plotly.tools.PlotlyDisplay object>"
      ]
     },
     "execution_count": 136,
     "metadata": {},
     "output_type": "execute_result"
    }
   ],
   "source": [
    "trace = go.Scatter(\n",
    "    x = ('Jan', 'Feb', 'Mar', 'Apr', 'May','June', 'July', 'Aug', 'Sep', 'Oct', 'Nov', 'Dec'),\n",
    "    y = carrier.flights\n",
    ")\n",
    "\n",
    "data = [trace]\n",
    "\n",
    "py.iplot(data, filename='monthly-flights')\n"
   ]
  },
  {
   "cell_type": "code",
   "execution_count": 130,
   "metadata": {
    "collapsed": true
   },
   "outputs": [],
   "source": [
    "week_flights = pd.DataFrame(concatenated_df.groupby(['week'])['flights'].count()) "
   ]
  },
  {
   "cell_type": "code",
   "execution_count": 133,
   "metadata": {
    "collapsed": false
   },
   "outputs": [
    {
     "data": {
      "text/html": [
       "<iframe id=\"igraph\" scrolling=\"no\" style=\"border:none;\" seamless=\"seamless\" src=\"https://plot.ly/~natalia_k/12.embed\" height=\"525px\" width=\"100%\"></iframe>"
      ],
      "text/plain": [
       "<plotly.tools.PlotlyDisplay object>"
      ]
     },
     "execution_count": 133,
     "metadata": {},
     "output_type": "execute_result"
    }
   ],
   "source": [
    "trace = go.Scatter(\n",
    "    x = ('Monday', 'Tuesday', 'Wednesday', 'Thursday', 'Friday', 'Saturday', 'Sunday'),\n",
    "    y = week_flights.flights\n",
    ")\n",
    "\n",
    "data = [trace]\n",
    "\n",
    "py.iplot(data, filename='weekly-flights')"
   ]
  },
  {
   "cell_type": "code",
   "execution_count": 159,
   "metadata": {
    "collapsed": true
   },
   "outputs": [],
   "source": [
    "day_flights = pd.DataFrame(concatenated_df[concatenated_df.cancelled>0].groupby(['fl_date'])['flights'].count()) "
   ]
  },
  {
   "cell_type": "code",
   "execution_count": 160,
   "metadata": {
    "collapsed": false
   },
   "outputs": [
    {
     "data": {
      "text/html": [
       "<iframe id=\"igraph\" scrolling=\"no\" style=\"border:none;\" seamless=\"seamless\" src=\"https://plot.ly/~natalia_k/16.embed\" height=\"525px\" width=\"100%\"></iframe>"
      ],
      "text/plain": [
       "<plotly.tools.PlotlyDisplay object>"
      ]
     },
     "execution_count": 160,
     "metadata": {},
     "output_type": "execute_result"
    }
   ],
   "source": [
    "trace = go.Scatter(\n",
    "    x = day_flights.index,\n",
    "    y = day_flights.flights\n",
    ")\n",
    "\n",
    "data = [trace]\n",
    "\n",
    "py.iplot(data, filename='daily-cancelled-flights')"
   ]
  },
  {
   "cell_type": "code",
   "execution_count": 165,
   "metadata": {
    "collapsed": false
   },
   "outputs": [
    {
     "data": {
      "text/plain": [
       "5819811"
      ]
     },
     "execution_count": 165,
     "metadata": {},
     "output_type": "execute_result"
    }
   ],
   "source": [
    "concatenated_df.flights.count()"
   ]
  },
  {
   "cell_type": "code",
   "execution_count": 166,
   "metadata": {
    "collapsed": false
   },
   "outputs": [
    {
     "data": {
      "text/plain": [
       "0.021819265264799836"
      ]
     },
     "execution_count": 166,
     "metadata": {},
     "output_type": "execute_result"
    }
   ],
   "source": [
    "126984/5819811"
   ]
  },
  {
   "cell_type": "code",
   "execution_count": 179,
   "metadata": {
    "collapsed": false
   },
   "outputs": [
    {
     "data": {
      "text/plain": [
       "0.39851517514915863"
      ]
     },
     "execution_count": 179,
     "metadata": {},
     "output_type": "execute_result"
    }
   ],
   "source": [
    "#delays\n",
    "2319283/5819811"
   ]
  },
  {
   "cell_type": "code",
   "execution_count": 178,
   "metadata": {
    "collapsed": true
   },
   "outputs": [
    {
     "data": {
      "text/plain": [
       "fl_date                  2319283\n",
       "unique_carrier           2319283\n",
       "airline_id               2319283\n",
       "carrier                  2319283\n",
       "tail_num                 2319283\n",
       "fl_num                   2319283\n",
       "origin_airport_id        2319283\n",
       "origin_airport_seq_id    2319283\n",
       "origin_city_market_id    2319283\n",
       "origin                   2319283\n",
       "origin_city_name         2319283\n",
       "origin_state_abr         2319283\n",
       "origin_state_fips        2319283\n",
       "origin_state_nm          2319283\n",
       "origin_wac               2319283\n",
       "dest_airport_id          2319283\n",
       "dest_airport_seq_id      2319283\n",
       "dest_city_market_id      2319283\n",
       "dest                     2319283\n",
       "dest_city_name           2319283\n",
       "dest_state_abr           2319283\n",
       "dest_state_fips          2319283\n",
       "dest_state_nm            2319283\n",
       "dest_wac                 2319283\n",
       "crs_dep_time             2319283\n",
       "dep_time                 2319283\n",
       "dep_delay                2319283\n",
       "dep_delay_new            2319283\n",
       "dep_del15                2319283\n",
       "dep_delay_group          2319283\n",
       "dep_time_blk             2319283\n",
       "taxi_out                 2319283\n",
       "wheels_off               2319283\n",
       "wheels_on                2317504\n",
       "taxi_in                  2317504\n",
       "crs_arr_time             2319283\n",
       "arr_time                 2317504\n",
       "arr_delay                2311360\n",
       "arr_delay_new            2311360\n",
       "arr_del15                2311360\n",
       "arr_delay_group          2311360\n",
       "arr_time_blk             2319283\n",
       "cancelled                2319283\n",
       "diverted                 2319283\n",
       "crs_elapsed_time         2319282\n",
       "actual_elapsed_time      2311360\n",
       "air_time                 2311360\n",
       "flights                  2319283\n",
       "distance                 2319283\n",
       "distance_group           2319283\n",
       "dep_delay_ind            2319283\n",
       "arr_delay_ind            2319283\n",
       "month                    2319283\n",
       "dtype: int64"
      ]
     },
     "execution_count": 178,
     "metadata": {},
     "output_type": "execute_result"
    }
   ],
   "source": [
    "df[df.dep_delay_ind==\"Delay\"].count()"
   ]
  },
  {
   "cell_type": "code",
   "execution_count": 169,
   "metadata": {
    "collapsed": false
   },
   "outputs": [],
   "source": [
    "delay_groups=pd.DataFrame(df[df.dep_delay_ind==\"Delay\"].groupby([\"dep_delay_group\"])[\"flights\"].count())"
   ]
  },
  {
   "cell_type": "code",
   "execution_count": 171,
   "metadata": {
    "collapsed": false
   },
   "outputs": [
    {
     "data": {
      "text/html": [
       "<div>\n",
       "<table border=\"1\" class=\"dataframe\">\n",
       "  <thead>\n",
       "    <tr style=\"text-align: right;\">\n",
       "      <th></th>\n",
       "      <th>flights</th>\n",
       "    </tr>\n",
       "    <tr>\n",
       "      <th>dep_delay_group</th>\n",
       "      <th></th>\n",
       "    </tr>\n",
       "  </thead>\n",
       "  <tbody>\n",
       "    <tr>\n",
       "      <th>0.0</th>\n",
       "      <td>1126034</td>\n",
       "    </tr>\n",
       "    <tr>\n",
       "      <th>1.0</th>\n",
       "      <td>456865</td>\n",
       "    </tr>\n",
       "    <tr>\n",
       "      <th>2.0</th>\n",
       "      <td>236532</td>\n",
       "    </tr>\n",
       "    <tr>\n",
       "      <th>3.0</th>\n",
       "      <td>142380</td>\n",
       "    </tr>\n",
       "    <tr>\n",
       "      <th>4.0</th>\n",
       "      <td>92801</td>\n",
       "    </tr>\n",
       "    <tr>\n",
       "      <th>5.0</th>\n",
       "      <td>63310</td>\n",
       "    </tr>\n",
       "    <tr>\n",
       "      <th>6.0</th>\n",
       "      <td>45827</td>\n",
       "    </tr>\n",
       "    <tr>\n",
       "      <th>7.0</th>\n",
       "      <td>34392</td>\n",
       "    </tr>\n",
       "    <tr>\n",
       "      <th>8.0</th>\n",
       "      <td>25721</td>\n",
       "    </tr>\n",
       "    <tr>\n",
       "      <th>9.0</th>\n",
       "      <td>19621</td>\n",
       "    </tr>\n",
       "    <tr>\n",
       "      <th>10.0</th>\n",
       "      <td>15559</td>\n",
       "    </tr>\n",
       "    <tr>\n",
       "      <th>11.0</th>\n",
       "      <td>12019</td>\n",
       "    </tr>\n",
       "    <tr>\n",
       "      <th>12.0</th>\n",
       "      <td>48222</td>\n",
       "    </tr>\n",
       "  </tbody>\n",
       "</table>\n",
       "</div>"
      ],
      "text/plain": [
       "                 flights\n",
       "dep_delay_group         \n",
       "0.0              1126034\n",
       "1.0               456865\n",
       "2.0               236532\n",
       "3.0               142380\n",
       "4.0                92801\n",
       "5.0                63310\n",
       "6.0                45827\n",
       "7.0                34392\n",
       "8.0                25721\n",
       "9.0                19621\n",
       "10.0               15559\n",
       "11.0               12019\n",
       "12.0               48222"
      ]
     },
     "execution_count": 171,
     "metadata": {},
     "output_type": "execute_result"
    }
   ],
   "source": [
    "delay_groups"
   ]
  },
  {
   "cell_type": "code",
   "execution_count": 177,
   "metadata": {
    "collapsed": false
   },
   "outputs": [
    {
     "data": {
      "text/html": [
       "<iframe id=\"igraph\" scrolling=\"no\" style=\"border:none;\" seamless=\"seamless\" src=\"https://plot.ly/~natalia_k/16.embed\" height=\"525px\" width=\"100%\"></iframe>"
      ],
      "text/plain": [
       "<plotly.tools.PlotlyDisplay object>"
      ]
     },
     "execution_count": 177,
     "metadata": {},
     "output_type": "execute_result"
    }
   ],
   "source": [
    "trace = go.Pie(\n",
    "    labels = ('0-15', '15-30', '30-45', '45-60', '60-75', '75-90', '90-105', '105-120', '120-135', '135-150', '150-165', '165-180'),\n",
    "    values = delay_groups.flights\n",
    ")\n",
    "\n",
    "data = [trace]\n",
    "\n",
    "py.iplot(data, filename='daily-cancelled-flights')"
   ]
  },
  {
   "cell_type": "code",
   "execution_count": 180,
   "metadata": {
    "collapsed": false
   },
   "outputs": [
    {
     "data": {
      "text/plain": [
       "fl_date                  14449\n",
       "unique_carrier           14449\n",
       "airline_id               14449\n",
       "carrier                  14449\n",
       "tail_num                 14449\n",
       "fl_num                   14449\n",
       "origin_airport_id        14449\n",
       "origin_airport_seq_id    14449\n",
       "origin_city_market_id    14449\n",
       "origin                   14449\n",
       "origin_city_name         14449\n",
       "origin_state_abr         14449\n",
       "origin_state_fips        14449\n",
       "origin_state_nm          14449\n",
       "origin_wac               14449\n",
       "dest_airport_id          14449\n",
       "dest_airport_seq_id      14449\n",
       "dest_city_market_id      14449\n",
       "dest                     14449\n",
       "dest_city_name           14449\n",
       "dest_state_abr           14449\n",
       "dest_state_fips          14449\n",
       "dest_state_nm            14449\n",
       "dest_wac                 14449\n",
       "crs_dep_time             14449\n",
       "dep_time                 14449\n",
       "dep_delay                14449\n",
       "dep_delay_new            14449\n",
       "dep_del15                14449\n",
       "dep_delay_group          14449\n",
       "dep_time_blk             14449\n",
       "taxi_out                 14449\n",
       "wheels_off               14449\n",
       "wheels_on                11805\n",
       "taxi_in                  11805\n",
       "crs_arr_time             14449\n",
       "arr_time                 11805\n",
       "arr_delay                    0\n",
       "arr_delay_new                0\n",
       "arr_del15                    0\n",
       "arr_delay_group              0\n",
       "arr_time_blk             14449\n",
       "cancelled                14449\n",
       "diverted                 14449\n",
       "crs_elapsed_time         14447\n",
       "actual_elapsed_time          0\n",
       "air_time                     0\n",
       "flights                  14449\n",
       "distance                 14449\n",
       "distance_group           14449\n",
       "dep_delay_ind            14449\n",
       "arr_delay_ind            14449\n",
       "month                    14449\n",
       "dtype: int64"
      ]
     },
     "execution_count": 180,
     "metadata": {},
     "output_type": "execute_result"
    }
   ],
   "source": [
    "df[df.diverted==1].count()"
   ]
  },
  {
   "cell_type": "code",
   "execution_count": 181,
   "metadata": {
    "collapsed": false
   },
   "outputs": [
    {
     "data": {
      "text/plain": [
       "0.0024827266727390288"
      ]
     },
     "execution_count": 181,
     "metadata": {},
     "output_type": "execute_result"
    }
   ],
   "source": [
    "14449/5819811"
   ]
  },
  {
   "cell_type": "code",
   "execution_count": 183,
   "metadata": {
    "collapsed": false
   },
   "outputs": [
    {
     "data": {
      "text/plain": [
       "798.70867181082"
      ]
     },
     "execution_count": 183,
     "metadata": {},
     "output_type": "execute_result"
    }
   ],
   "source": [
    "concatenated_df.distance.mean()"
   ]
  },
  {
   "cell_type": "code",
   "execution_count": 187,
   "metadata": {
    "collapsed": false
   },
   "outputs": [
    {
     "data": {
      "text/plain": [
       "151.61819031127823"
      ]
     },
     "execution_count": 187,
     "metadata": {},
     "output_type": "execute_result"
    }
   ],
   "source": [
    "(concatenated_df.arr_time-concatenated_df.dep_time).mean()"
   ]
  },
  {
   "cell_type": "code",
   "execution_count": null,
   "metadata": {
    "collapsed": true
   },
   "outputs": [],
   "source": []
  }
 ],
 "metadata": {
  "anaconda-cloud": {},
  "kernelspec": {
   "display_name": "Python [conda root]",
   "language": "python",
   "name": "conda-root-py"
  },
  "language_info": {
   "codemirror_mode": {
    "name": "ipython",
    "version": 3
   },
   "file_extension": ".py",
   "mimetype": "text/x-python",
   "name": "python",
   "nbconvert_exporter": "python",
   "pygments_lexer": "ipython3",
   "version": "3.5.2"
  }
 },
 "nbformat": 4,
 "nbformat_minor": 2
}
